{
 "cells": [
  {
   "cell_type": "code",
   "execution_count": 7,
   "metadata": {},
   "outputs": [],
   "source": [
    "import numpy as np # linear algebra\n",
    "import pandas as pd # data processing, CSV file I/O (e.g. pd.read_csv)\n",
    "import matplotlib.pyplot as plt \n",
    "import seaborn as sns\n",
    "import warnings\n",
    "warnings.filterwarnings('ignore')"
   ]
  },
  {
   "cell_type": "code",
   "execution_count": 16,
   "metadata": {},
   "outputs": [],
   "source": [
    "data = pd.read_csv('train.tsv',sep='\\t') #let's read the training dataset"
   ]
  },
  {
   "cell_type": "code",
   "execution_count": 17,
   "metadata": {},
   "outputs": [
    {
     "data": {
      "text/html": [
       "<div>\n",
       "<style scoped>\n",
       "    .dataframe tbody tr th:only-of-type {\n",
       "        vertical-align: middle;\n",
       "    }\n",
       "\n",
       "    .dataframe tbody tr th {\n",
       "        vertical-align: top;\n",
       "    }\n",
       "\n",
       "    .dataframe thead th {\n",
       "        text-align: right;\n",
       "    }\n",
       "</style>\n",
       "<table border=\"1\" class=\"dataframe\">\n",
       "  <thead>\n",
       "    <tr style=\"text-align: right;\">\n",
       "      <th></th>\n",
       "      <th>PhraseId</th>\n",
       "      <th>SentenceId</th>\n",
       "      <th>Phrase</th>\n",
       "      <th>Sentiment</th>\n",
       "    </tr>\n",
       "  </thead>\n",
       "  <tbody>\n",
       "    <tr>\n",
       "      <th>0</th>\n",
       "      <td>1</td>\n",
       "      <td>1</td>\n",
       "      <td>A series of escapades demonstrating the adage ...</td>\n",
       "      <td>1</td>\n",
       "    </tr>\n",
       "    <tr>\n",
       "      <th>1</th>\n",
       "      <td>2</td>\n",
       "      <td>1</td>\n",
       "      <td>A series of escapades demonstrating the adage ...</td>\n",
       "      <td>2</td>\n",
       "    </tr>\n",
       "    <tr>\n",
       "      <th>2</th>\n",
       "      <td>3</td>\n",
       "      <td>1</td>\n",
       "      <td>A series</td>\n",
       "      <td>2</td>\n",
       "    </tr>\n",
       "    <tr>\n",
       "      <th>3</th>\n",
       "      <td>4</td>\n",
       "      <td>1</td>\n",
       "      <td>A</td>\n",
       "      <td>2</td>\n",
       "    </tr>\n",
       "    <tr>\n",
       "      <th>4</th>\n",
       "      <td>5</td>\n",
       "      <td>1</td>\n",
       "      <td>series</td>\n",
       "      <td>2</td>\n",
       "    </tr>\n",
       "  </tbody>\n",
       "</table>\n",
       "</div>"
      ],
      "text/plain": [
       "   PhraseId  SentenceId                                             Phrase  \\\n",
       "0         1           1  A series of escapades demonstrating the adage ...   \n",
       "1         2           1  A series of escapades demonstrating the adage ...   \n",
       "2         3           1                                           A series   \n",
       "3         4           1                                                  A   \n",
       "4         5           1                                             series   \n",
       "\n",
       "   Sentiment  \n",
       "0          1  \n",
       "1          2  \n",
       "2          2  \n",
       "3          2  \n",
       "4          2  "
      ]
     },
     "execution_count": 17,
     "metadata": {},
     "output_type": "execute_result"
    }
   ],
   "source": [
    "data.head() #check the head of the data"
   ]
  },
  {
   "cell_type": "code",
   "execution_count": 18,
   "metadata": {},
   "outputs": [
    {
     "data": {
      "text/plain": [
       "'A series of escapades demonstrating the adage that what is good for the goose is also good for the gander , some of which occasionally amuses but none of which amounts to much of a story .'"
      ]
     },
     "execution_count": 18,
     "metadata": {},
     "output_type": "execute_result"
    }
   ],
   "source": [
    "data['Phrase'][0]"
   ]
  },
  {
   "cell_type": "code",
   "execution_count": 19,
   "metadata": {},
   "outputs": [
    {
     "data": {
      "text/plain": [
       "2    79582\n",
       "3    32927\n",
       "1    27273\n",
       "4     9206\n",
       "0     7072\n",
       "Name: Sentiment, dtype: int64"
      ]
     },
     "execution_count": 19,
     "metadata": {},
     "output_type": "execute_result"
    }
   ],
   "source": [
    "data['Sentiment'].value_counts()"
   ]
  },
  {
   "cell_type": "code",
   "execution_count": 20,
   "metadata": {},
   "outputs": [
    {
     "name": "stdout",
     "output_type": "stream",
     "text": [
      "<class 'pandas.core.frame.DataFrame'>\n",
      "RangeIndex: 156060 entries, 0 to 156059\n",
      "Data columns (total 4 columns):\n",
      "PhraseId      156060 non-null int64\n",
      "SentenceId    156060 non-null int64\n",
      "Phrase        156060 non-null object\n",
      "Sentiment     156060 non-null int64\n",
      "dtypes: int64(3), object(1)\n",
      "memory usage: 4.8+ MB\n"
     ]
    }
   ],
   "source": [
    "data.info()"
   ]
  },
  {
   "cell_type": "markdown",
   "metadata": {},
   "source": [
    "## Data Reduction(Drop useless data)"
   ]
  },
  {
   "cell_type": "code",
   "execution_count": 21,
   "metadata": {},
   "outputs": [
    {
     "data": {
      "text/html": [
       "<div>\n",
       "<style scoped>\n",
       "    .dataframe tbody tr th:only-of-type {\n",
       "        vertical-align: middle;\n",
       "    }\n",
       "\n",
       "    .dataframe tbody tr th {\n",
       "        vertical-align: top;\n",
       "    }\n",
       "\n",
       "    .dataframe thead th {\n",
       "        text-align: right;\n",
       "    }\n",
       "</style>\n",
       "<table border=\"1\" class=\"dataframe\">\n",
       "  <thead>\n",
       "    <tr style=\"text-align: right;\">\n",
       "      <th></th>\n",
       "      <th>Phrase</th>\n",
       "      <th>Sentiment</th>\n",
       "    </tr>\n",
       "  </thead>\n",
       "  <tbody>\n",
       "    <tr>\n",
       "      <th>0</th>\n",
       "      <td>A series of escapades demonstrating the adage ...</td>\n",
       "      <td>1</td>\n",
       "    </tr>\n",
       "    <tr>\n",
       "      <th>1</th>\n",
       "      <td>A series of escapades demonstrating the adage ...</td>\n",
       "      <td>2</td>\n",
       "    </tr>\n",
       "    <tr>\n",
       "      <th>2</th>\n",
       "      <td>A series</td>\n",
       "      <td>2</td>\n",
       "    </tr>\n",
       "    <tr>\n",
       "      <th>3</th>\n",
       "      <td>A</td>\n",
       "      <td>2</td>\n",
       "    </tr>\n",
       "    <tr>\n",
       "      <th>4</th>\n",
       "      <td>series</td>\n",
       "      <td>2</td>\n",
       "    </tr>\n",
       "  </tbody>\n",
       "</table>\n",
       "</div>"
      ],
      "text/plain": [
       "                                              Phrase  Sentiment\n",
       "0  A series of escapades demonstrating the adage ...          1\n",
       "1  A series of escapades demonstrating the adage ...          2\n",
       "2                                           A series          2\n",
       "3                                                  A          2\n",
       "4                                             series          2"
      ]
     },
     "execution_count": 21,
     "metadata": {},
     "output_type": "execute_result"
    }
   ],
   "source": [
    "data=data.drop(['PhraseId','SentenceId'],axis=1)\n",
    "data.head()"
   ]
  },
  {
   "cell_type": "code",
   "execution_count": 22,
   "metadata": {},
   "outputs": [
    {
     "name": "stdout",
     "output_type": "stream",
     "text": [
      "<class 'pandas.core.frame.DataFrame'>\n",
      "RangeIndex: 156060 entries, 0 to 156059\n",
      "Data columns (total 2 columns):\n",
      "Phrase       156060 non-null object\n",
      "Sentiment    156060 non-null int64\n",
      "dtypes: int64(1), object(1)\n",
      "memory usage: 2.4+ MB\n"
     ]
    }
   ],
   "source": [
    "data.info()"
   ]
  },
  {
   "cell_type": "markdown",
   "metadata": {},
   "source": [
    "## Interpretation of sentiments"
   ]
  },
  {
   "cell_type": "code",
   "execution_count": 23,
   "metadata": {},
   "outputs": [],
   "source": [
    "def get_polarity(data):\n",
    "        # set sentiment\n",
    "        if data['Sentiment'] == 0:\n",
    "            return 'negative'\n",
    "        elif data['Sentiment'] == 1:\n",
    "            return 'somewhat negative'\n",
    "        elif data['Sentiment']==2:\n",
    "            return 'neutral'\n",
    "        elif data['Sentiment']==3:\n",
    "            return 'somewhat positive'\n",
    "        else:\n",
    "            return 'positive'"
   ]
  },
  {
   "cell_type": "code",
   "execution_count": 24,
   "metadata": {},
   "outputs": [],
   "source": [
    "data['Polarity'] = data.apply(get_polarity,axis=1)"
   ]
  },
  {
   "cell_type": "code",
   "execution_count": 25,
   "metadata": {},
   "outputs": [
    {
     "data": {
      "text/html": [
       "<div>\n",
       "<style scoped>\n",
       "    .dataframe tbody tr th:only-of-type {\n",
       "        vertical-align: middle;\n",
       "    }\n",
       "\n",
       "    .dataframe tbody tr th {\n",
       "        vertical-align: top;\n",
       "    }\n",
       "\n",
       "    .dataframe thead th {\n",
       "        text-align: right;\n",
       "    }\n",
       "</style>\n",
       "<table border=\"1\" class=\"dataframe\">\n",
       "  <thead>\n",
       "    <tr style=\"text-align: right;\">\n",
       "      <th></th>\n",
       "      <th>Phrase</th>\n",
       "      <th>Sentiment</th>\n",
       "      <th>Polarity</th>\n",
       "    </tr>\n",
       "  </thead>\n",
       "  <tbody>\n",
       "    <tr>\n",
       "      <th>0</th>\n",
       "      <td>A series of escapades demonstrating the adage ...</td>\n",
       "      <td>1</td>\n",
       "      <td>somewhat negative</td>\n",
       "    </tr>\n",
       "    <tr>\n",
       "      <th>1</th>\n",
       "      <td>A series of escapades demonstrating the adage ...</td>\n",
       "      <td>2</td>\n",
       "      <td>neutral</td>\n",
       "    </tr>\n",
       "    <tr>\n",
       "      <th>2</th>\n",
       "      <td>A series</td>\n",
       "      <td>2</td>\n",
       "      <td>neutral</td>\n",
       "    </tr>\n",
       "    <tr>\n",
       "      <th>3</th>\n",
       "      <td>A</td>\n",
       "      <td>2</td>\n",
       "      <td>neutral</td>\n",
       "    </tr>\n",
       "    <tr>\n",
       "      <th>4</th>\n",
       "      <td>series</td>\n",
       "      <td>2</td>\n",
       "      <td>neutral</td>\n",
       "    </tr>\n",
       "  </tbody>\n",
       "</table>\n",
       "</div>"
      ],
      "text/plain": [
       "                                              Phrase  Sentiment  \\\n",
       "0  A series of escapades demonstrating the adage ...          1   \n",
       "1  A series of escapades demonstrating the adage ...          2   \n",
       "2                                           A series          2   \n",
       "3                                                  A          2   \n",
       "4                                             series          2   \n",
       "\n",
       "            Polarity  \n",
       "0  somewhat negative  \n",
       "1            neutral  \n",
       "2            neutral  \n",
       "3            neutral  \n",
       "4            neutral  "
      ]
     },
     "execution_count": 25,
     "metadata": {},
     "output_type": "execute_result"
    }
   ],
   "source": [
    "data.head()"
   ]
  },
  {
   "cell_type": "markdown",
   "metadata": {},
   "source": [
    "## Checking for Null/Not available data entries "
   ]
  },
  {
   "cell_type": "code",
   "execution_count": 26,
   "metadata": {},
   "outputs": [
    {
     "data": {
      "text/plain": [
       "Phrase       0\n",
       "Sentiment    0\n",
       "Polarity     0\n",
       "dtype: int64"
      ]
     },
     "execution_count": 26,
     "metadata": {},
     "output_type": "execute_result"
    }
   ],
   "source": [
    "data.isna().sum()"
   ]
  },
  {
   "cell_type": "code",
   "execution_count": 27,
   "metadata": {},
   "outputs": [
    {
     "data": {
      "text/plain": [
       "Phrase       0\n",
       "Sentiment    0\n",
       "Polarity     0\n",
       "dtype: int64"
      ]
     },
     "execution_count": 27,
     "metadata": {},
     "output_type": "execute_result"
    }
   ],
   "source": [
    "data.isnull().sum()"
   ]
  },
  {
   "cell_type": "markdown",
   "metadata": {},
   "source": [
    "## Visualize number of reviews for each sentiment "
   ]
  },
  {
   "cell_type": "code",
   "execution_count": 28,
   "metadata": {},
   "outputs": [
    {
     "name": "stdout",
     "output_type": "stream",
     "text": [
      "neutral              79582\n",
      "somewhat positive    32927\n",
      "somewhat negative    27273\n",
      "positive              9206\n",
      "negative              7072\n",
      "Name: Polarity, dtype: int64\n"
     ]
    },
    {
     "data": {
      "text/plain": [
       "Text(0.5,0,'Sentiment expressed in Reviews')"
      ]
     },
     "execution_count": 28,
     "metadata": {},
     "output_type": "execute_result"
    },
    {
     "data": {
      "image/png": "[encoded data removed]",
      "text/plain": [
       "<Figure size 432x288 with 1 Axes>"
      ]
     },
     "metadata": {},
     "output_type": "display_data"
    }
   ],
   "source": [
    "Index = [1,2,3,4,5]\n",
    "print(data.Polarity.value_counts())\n",
    "plt.bar(Index,data.Polarity.value_counts())\n",
    "plt.xticks(Index,['neutral','somewhat positive','somewhat negative','positive','negative'],rotation=45)\n",
    "plt.ylabel('Number of Reviews')\n",
    "plt.xlabel('Sentiment expressed in Reviews')"
   ]
  },
  {
   "cell_type": "markdown",
   "metadata": {},
   "source": [
    "## Class imbalance detected - eliminated through oversampling after preproccessing *                                                                                                                                                                                                    "
   ]
  },
  {
   "cell_type": "code",
   "execution_count": 29,
   "metadata": {},
   "outputs": [],
   "source": [
    "data['Length'] = data['Phrase'].apply(lambda x: len(str(x).split(' ')))"
   ]
  },
  {
   "cell_type": "code",
   "execution_count": 30,
   "metadata": {},
   "outputs": [
    {
     "data": {
      "text/html": [
       "<div>\n",
       "<style scoped>\n",
       "    .dataframe tbody tr th:only-of-type {\n",
       "        vertical-align: middle;\n",
       "    }\n",
       "\n",
       "    .dataframe tbody tr th {\n",
       "        vertical-align: top;\n",
       "    }\n",
       "\n",
       "    .dataframe thead th {\n",
       "        text-align: right;\n",
       "    }\n",
       "</style>\n",
       "<table border=\"1\" class=\"dataframe\">\n",
       "  <thead>\n",
       "    <tr style=\"text-align: right;\">\n",
       "      <th></th>\n",
       "      <th>Phrase</th>\n",
       "      <th>Sentiment</th>\n",
       "      <th>Polarity</th>\n",
       "      <th>Length</th>\n",
       "    </tr>\n",
       "  </thead>\n",
       "  <tbody>\n",
       "    <tr>\n",
       "      <th>0</th>\n",
       "      <td>A series of escapades demonstrating the adage ...</td>\n",
       "      <td>1</td>\n",
       "      <td>somewhat negative</td>\n",
       "      <td>37</td>\n",
       "    </tr>\n",
       "    <tr>\n",
       "      <th>1</th>\n",
       "      <td>A series of escapades demonstrating the adage ...</td>\n",
       "      <td>2</td>\n",
       "      <td>neutral</td>\n",
       "      <td>14</td>\n",
       "    </tr>\n",
       "    <tr>\n",
       "      <th>2</th>\n",
       "      <td>A series</td>\n",
       "      <td>2</td>\n",
       "      <td>neutral</td>\n",
       "      <td>2</td>\n",
       "    </tr>\n",
       "    <tr>\n",
       "      <th>3</th>\n",
       "      <td>A</td>\n",
       "      <td>2</td>\n",
       "      <td>neutral</td>\n",
       "      <td>1</td>\n",
       "    </tr>\n",
       "    <tr>\n",
       "      <th>4</th>\n",
       "      <td>series</td>\n",
       "      <td>2</td>\n",
       "      <td>neutral</td>\n",
       "      <td>1</td>\n",
       "    </tr>\n",
       "    <tr>\n",
       "      <th>5</th>\n",
       "      <td>of escapades demonstrating the adage that what...</td>\n",
       "      <td>2</td>\n",
       "      <td>neutral</td>\n",
       "      <td>12</td>\n",
       "    </tr>\n",
       "    <tr>\n",
       "      <th>6</th>\n",
       "      <td>of</td>\n",
       "      <td>2</td>\n",
       "      <td>neutral</td>\n",
       "      <td>1</td>\n",
       "    </tr>\n",
       "    <tr>\n",
       "      <th>7</th>\n",
       "      <td>escapades demonstrating the adage that what is...</td>\n",
       "      <td>2</td>\n",
       "      <td>neutral</td>\n",
       "      <td>11</td>\n",
       "    </tr>\n",
       "    <tr>\n",
       "      <th>8</th>\n",
       "      <td>escapades</td>\n",
       "      <td>2</td>\n",
       "      <td>neutral</td>\n",
       "      <td>1</td>\n",
       "    </tr>\n",
       "    <tr>\n",
       "      <th>9</th>\n",
       "      <td>demonstrating the adage that what is good for ...</td>\n",
       "      <td>2</td>\n",
       "      <td>neutral</td>\n",
       "      <td>10</td>\n",
       "    </tr>\n",
       "  </tbody>\n",
       "</table>\n",
       "</div>"
      ],
      "text/plain": [
       "                                              Phrase  Sentiment  \\\n",
       "0  A series of escapades demonstrating the adage ...          1   \n",
       "1  A series of escapades demonstrating the adage ...          2   \n",
       "2                                           A series          2   \n",
       "3                                                  A          2   \n",
       "4                                             series          2   \n",
       "5  of escapades demonstrating the adage that what...          2   \n",
       "6                                                 of          2   \n",
       "7  escapades demonstrating the adage that what is...          2   \n",
       "8                                          escapades          2   \n",
       "9  demonstrating the adage that what is good for ...          2   \n",
       "\n",
       "            Polarity  Length  \n",
       "0  somewhat negative      37  \n",
       "1            neutral      14  \n",
       "2            neutral       2  \n",
       "3            neutral       1  \n",
       "4            neutral       1  \n",
       "5            neutral      12  \n",
       "6            neutral       1  \n",
       "7            neutral      11  \n",
       "8            neutral       1  \n",
       "9            neutral      10  "
      ]
     },
     "execution_count": 30,
     "metadata": {},
     "output_type": "execute_result"
    }
   ],
   "source": [
    "data.head(10)"
   ]
  },
  {
   "cell_type": "code",
   "execution_count": 31,
   "metadata": {},
   "outputs": [
    {
     "data": {
      "text/plain": [
       "array([37, 14,  2,  1, 12, 11, 10,  3,  7,  6,  5,  4, 23, 22, 20, 19, 18,\n",
       "       15,  9,  8, 21, 26, 25, 16, 13, 17, 30, 28, 27, 24, 41, 40, 36, 29,\n",
       "       31, 32, 34, 33, 42, 39, 38, 35, 43, 45, 44, 49, 48, 47, 46, 51, 50,\n",
       "       52], dtype=int64)"
      ]
     },
     "execution_count": 31,
     "metadata": {},
     "output_type": "execute_result"
    }
   ],
   "source": [
    "data['Length'].unique()"
   ]
  },
  {
   "cell_type": "markdown",
   "metadata": {},
   "source": [
    "### Boxplot of lengths to see number of outliers"
   ]
  },
  {
   "cell_type": "code",
   "execution_count": 32,
   "metadata": {},
   "outputs": [
    {
     "data": {
      "image/png": "[encoded data removed]",
      "text/plain": [
       "<Figure size 360x360 with 1 Axes>"
      ]
     },
     "metadata": {},
     "output_type": "display_data"
    }
   ],
   "source": [
    "fig,ax = plt.subplots(figsize=(5,5))\n",
    "plt.boxplot(data['Length'])\n",
    "plt.show()"
   ]
  },
  {
   "cell_type": "markdown",
   "metadata": {},
   "source": [
    "### Check if outliers are useless"
   ]
  },
  {
   "cell_type": "code",
   "execution_count": 33,
   "metadata": {},
   "outputs": [
    {
     "data": {
      "text/plain": [
       "'A series of escapades demonstrating the adage that what is good for the goose is also good for the gander , some of which occasionally amuses but none of which amounts to much of a story .'"
      ]
     },
     "execution_count": 33,
     "metadata": {},
     "output_type": "execute_result"
    }
   ],
   "source": [
    "data[data['Length']>25]['Phrase'][0]"
   ]
  },
  {
   "cell_type": "markdown",
   "metadata": {},
   "source": [
    "## Visuliation of frequency of each sentiment wrt length of phrase"
   ]
  },
  {
   "cell_type": "code",
   "execution_count": 49,
   "metadata": {},
   "outputs": [
    {
     "data": {
      "text/plain": [
       "<seaborn.axisgrid.PairGrid at 0x1cabbdb3048>"
      ]
     },
     "execution_count": 49,
     "metadata": {},
     "output_type": "execute_result"
    },
    {
     "data": {
      "image/png": "[encoded data removed]",
      "text/plain": [
       "<Figure size 779.5x720 with 2 Axes>"
      ]
     },
     "metadata": {},
     "output_type": "display_data"
    }
   ],
   "source": [
    "import seaborn as sns\n",
    "sns.pairplot(data,hue='Sentiment',vars=['Length'],size=10)"
   ]
  },
  {
   "cell_type": "markdown",
   "metadata": {},
   "source": [
    "### Same pattern of length for each sentiment i.e. they can't be classified on the basis of length"
   ]
  },
  {
   "cell_type": "code",
   "execution_count": 35,
   "metadata": {},
   "outputs": [
    {
     "data": {
      "text/plain": [
       "CountVectorizer(min_df=0.0, ngram_range=(1, 2))"
      ]
     },
     "execution_count": 35,
     "metadata": {},
     "output_type": "execute_result"
    }
   ],
   "source": [
    "from sklearn.feature_extraction.text import CountVectorizer\n",
    "cvector = CountVectorizer(min_df = 0.0, max_df = 1.0, ngram_range=(1,2))\n",
    "cvector.fit(data.Phrase)"
   ]
  },
  {
   "cell_type": "code",
   "execution_count": 36,
   "metadata": {},
   "outputs": [
    {
     "data": {
      "text/plain": [
       "94644"
      ]
     },
     "execution_count": 36,
     "metadata": {},
     "output_type": "execute_result"
    }
   ],
   "source": [
    "len(cvector.get_feature_names())"
   ]
  },
  {
   "cell_type": "markdown",
   "metadata": {},
   "source": [
    "## Frequency of each word in whole corpus"
   ]
  },
  {
   "cell_type": "code",
   "execution_count": null,
   "metadata": {},
   "outputs": [],
   "source": [
    "matrix = cvector.transform(data.Phrase)\n",
    "words = matrix.sum(axis=0)\n",
    "words_freq = [(word, words[0, idx]) for word, idx in cvector.vocabulary_.items()]\n",
    "tf = pd.DataFrame(list(sorted(words_freq, key = lambda x: x[1], reverse=True)),columns=['Terms','frequency'])"
   ]
  },
  {
   "cell_type": "code",
   "execution_count": 51,
   "metadata": {},
   "outputs": [
    {
     "data": {
      "text/html": [
       "<div>\n",
       "<style scoped>\n",
       "    .dataframe tbody tr th:only-of-type {\n",
       "        vertical-align: middle;\n",
       "    }\n",
       "\n",
       "    .dataframe tbody tr th {\n",
       "        vertical-align: top;\n",
       "    }\n",
       "\n",
       "    .dataframe thead th {\n",
       "        text-align: right;\n",
       "    }\n",
       "</style>\n",
       "<table border=\"1\" class=\"dataframe\">\n",
       "  <thead>\n",
       "    <tr style=\"text-align: right;\">\n",
       "      <th></th>\n",
       "      <th>Terms</th>\n",
       "      <th>frequency</th>\n",
       "    </tr>\n",
       "  </thead>\n",
       "  <tbody>\n",
       "    <tr>\n",
       "      <th>0</th>\n",
       "      <td>the</td>\n",
       "      <td>51633</td>\n",
       "    </tr>\n",
       "    <tr>\n",
       "      <th>1</th>\n",
       "      <td>of</td>\n",
       "      <td>32702</td>\n",
       "    </tr>\n",
       "    <tr>\n",
       "      <th>2</th>\n",
       "      <td>and</td>\n",
       "      <td>32177</td>\n",
       "    </tr>\n",
       "    <tr>\n",
       "      <th>3</th>\n",
       "      <td>to</td>\n",
       "      <td>22761</td>\n",
       "    </tr>\n",
       "    <tr>\n",
       "      <th>4</th>\n",
       "      <td>in</td>\n",
       "      <td>13997</td>\n",
       "    </tr>\n",
       "    <tr>\n",
       "      <th>5</th>\n",
       "      <td>is</td>\n",
       "      <td>13476</td>\n",
       "    </tr>\n",
       "    <tr>\n",
       "      <th>6</th>\n",
       "      <td>that</td>\n",
       "      <td>12338</td>\n",
       "    </tr>\n",
       "    <tr>\n",
       "      <th>7</th>\n",
       "      <td>it</td>\n",
       "      <td>11734</td>\n",
       "    </tr>\n",
       "    <tr>\n",
       "      <th>8</th>\n",
       "      <td>as</td>\n",
       "      <td>8651</td>\n",
       "    </tr>\n",
       "    <tr>\n",
       "      <th>9</th>\n",
       "      <td>with</td>\n",
       "      <td>7750</td>\n",
       "    </tr>\n",
       "  </tbody>\n",
       "</table>\n",
       "</div>"
      ],
      "text/plain": [
       "  Terms  frequency\n",
       "0   the      51633\n",
       "1    of      32702\n",
       "2   and      32177\n",
       "3    to      22761\n",
       "4    in      13997\n",
       "5    is      13476\n",
       "6  that      12338\n",
       "7    it      11734\n",
       "8    as       8651\n",
       "9  with       7750"
      ]
     },
     "execution_count": 51,
     "metadata": {},
     "output_type": "execute_result"
    }
   ],
   "source": [
    "tf.head(10)"
   ]
  },
  {
   "cell_type": "code",
   "execution_count": 52,
   "metadata": {},
   "outputs": [
    {
     "data": {
      "text/plain": [
       "Text(0.5,1,'Top 50 words in movie reviews')"
      ]
     },
     "execution_count": 52,
     "metadata": {},
     "output_type": "execute_result"
    },
    {
     "data": {
      "image/png": "[encoded data removed]",
      "text/plain": [
       "<Figure size 864x720 with 1 Axes>"
      ]
     },
     "metadata": {},
     "output_type": "display_data"
    }
   ],
   "source": [
    "y_pos = np.arange(50)\n",
    "plt.figure(figsize=(12,10))\n",
    "plt.bar(y_pos, tf['frequency'][:50], align='center', alpha=0.5)\n",
    "plt.xticks(y_pos, tf['Terms'][:50],rotation='vertical')\n",
    "plt.ylabel('Frequency')\n",
    "plt.xlabel('Top 50 words')\n",
    "plt.title('Top 50 words in movie reviews')"
   ]
  },
  {
   "cell_type": "code",
   "execution_count": 40,
   "metadata": {},
   "outputs": [
    {
     "data": {
      "image/png": "[encoded data removed]",
      "text/plain": [
       "<Figure size 576x432 with 1 Axes>"
      ]
     },
     "metadata": {},
     "output_type": "display_data"
    }
   ],
   "source": [
    "from pylab import *\n",
    "counts = tf.frequency\n",
    "tokens = tf.Terms\n",
    "ranks = arange(1, len(counts)+1)\n",
    "indices = argsort(-counts)\n",
    "frequencies = counts[indices]\n",
    "plt.figure(figsize=(8,6))\n",
    "plt.ylim(1,10**6)\n",
    "plt.xlim(1,10**6)\n",
    "loglog(ranks, frequencies, marker=\".\")\n",
    "plt.plot([1,frequencies[0]],[frequencies[0],1],color='r')\n",
    "title(\"Zipf plot for phrases tokens\")\n",
    "xlabel(\"Frequency rank of token\")\n",
    "ylabel(\"Absolute frequency of token\")\n",
    "grid(True)\n",
    "for n in list(logspace(-0.5, log10(len(counts)-2), 25).astype(int)):\n",
    "    dummy = text(ranks[n], frequencies[n], \" \" + tokens[indices[n]], \n",
    "                 verticalalignment=\"bottom\",\n",
    "                 horizontalalignment=\"left\")\n"
   ]
  },
  {
   "cell_type": "markdown",
   "metadata": {},
   "source": [
    "We can clearly see that words like \"the\", \"in\",\"it\", etc are much higher in frequency but has been ranked less as they don't have any significance regarding the sentiment of the movie review. On the other hand, some words like \"downbeat laughably\" have been given higher rank as they are very less frequent in the document and seems to be significant related to the sentiment of a movie."
   ]
  },
  {
   "cell_type": "code",
   "execution_count": 41,
   "metadata": {},
   "outputs": [
    {
     "data": {
      "text/html": [
       "<div>\n",
       "<style scoped>\n",
       "    .dataframe tbody tr th:only-of-type {\n",
       "        vertical-align: middle;\n",
       "    }\n",
       "\n",
       "    .dataframe tbody tr th {\n",
       "        vertical-align: top;\n",
       "    }\n",
       "\n",
       "    .dataframe thead th {\n",
       "        text-align: right;\n",
       "    }\n",
       "</style>\n",
       "<table border=\"1\" class=\"dataframe\">\n",
       "  <thead>\n",
       "    <tr style=\"text-align: right;\">\n",
       "      <th></th>\n",
       "      <th>negative</th>\n",
       "      <th>some-negative</th>\n",
       "      <th>neutral</th>\n",
       "      <th>some-positive</th>\n",
       "      <th>positive</th>\n",
       "      <th>total</th>\n",
       "    </tr>\n",
       "  </thead>\n",
       "  <tbody>\n",
       "    <tr>\n",
       "      <th>the</th>\n",
       "      <td>3462</td>\n",
       "      <td>10885</td>\n",
       "      <td>20619</td>\n",
       "      <td>12459</td>\n",
       "      <td>4208</td>\n",
       "      <td>51633</td>\n",
       "    </tr>\n",
       "    <tr>\n",
       "      <th>of</th>\n",
       "      <td>2277</td>\n",
       "      <td>6660</td>\n",
       "      <td>12287</td>\n",
       "      <td>8405</td>\n",
       "      <td>3073</td>\n",
       "      <td>32702</td>\n",
       "    </tr>\n",
       "    <tr>\n",
       "      <th>and</th>\n",
       "      <td>2549</td>\n",
       "      <td>6204</td>\n",
       "      <td>10241</td>\n",
       "      <td>9180</td>\n",
       "      <td>4003</td>\n",
       "      <td>32177</td>\n",
       "    </tr>\n",
       "    <tr>\n",
       "      <th>to</th>\n",
       "      <td>1916</td>\n",
       "      <td>5571</td>\n",
       "      <td>8295</td>\n",
       "      <td>5411</td>\n",
       "      <td>1568</td>\n",
       "      <td>22761</td>\n",
       "    </tr>\n",
       "    <tr>\n",
       "      <th>in</th>\n",
       "      <td>1038</td>\n",
       "      <td>2965</td>\n",
       "      <td>5562</td>\n",
       "      <td>3365</td>\n",
       "      <td>1067</td>\n",
       "      <td>13997</td>\n",
       "    </tr>\n",
       "    <tr>\n",
       "      <th>is</th>\n",
       "      <td>1372</td>\n",
       "      <td>3362</td>\n",
       "      <td>3703</td>\n",
       "      <td>3489</td>\n",
       "      <td>1550</td>\n",
       "      <td>13476</td>\n",
       "    </tr>\n",
       "    <tr>\n",
       "      <th>that</th>\n",
       "      <td>1139</td>\n",
       "      <td>2982</td>\n",
       "      <td>3677</td>\n",
       "      <td>3280</td>\n",
       "      <td>1260</td>\n",
       "      <td>12338</td>\n",
       "    </tr>\n",
       "    <tr>\n",
       "      <th>it</th>\n",
       "      <td>1086</td>\n",
       "      <td>3067</td>\n",
       "      <td>3791</td>\n",
       "      <td>2927</td>\n",
       "      <td>863</td>\n",
       "      <td>11734</td>\n",
       "    </tr>\n",
       "    <tr>\n",
       "      <th>as</th>\n",
       "      <td>757</td>\n",
       "      <td>2184</td>\n",
       "      <td>2941</td>\n",
       "      <td>2037</td>\n",
       "      <td>732</td>\n",
       "      <td>8651</td>\n",
       "    </tr>\n",
       "    <tr>\n",
       "      <th>with</th>\n",
       "      <td>452</td>\n",
       "      <td>1533</td>\n",
       "      <td>2471</td>\n",
       "      <td>2365</td>\n",
       "      <td>929</td>\n",
       "      <td>7750</td>\n",
       "    </tr>\n",
       "    <tr>\n",
       "      <th>for</th>\n",
       "      <td>545</td>\n",
       "      <td>1739</td>\n",
       "      <td>2939</td>\n",
       "      <td>1763</td>\n",
       "      <td>567</td>\n",
       "      <td>7553</td>\n",
       "    </tr>\n",
       "    <tr>\n",
       "      <th>its</th>\n",
       "      <td>492</td>\n",
       "      <td>1631</td>\n",
       "      <td>2536</td>\n",
       "      <td>1870</td>\n",
       "      <td>522</td>\n",
       "      <td>7051</td>\n",
       "    </tr>\n",
       "    <tr>\n",
       "      <th>film</th>\n",
       "      <td>480</td>\n",
       "      <td>1281</td>\n",
       "      <td>2175</td>\n",
       "      <td>1848</td>\n",
       "      <td>949</td>\n",
       "      <td>6733</td>\n",
       "    </tr>\n",
       "    <tr>\n",
       "      <th>an</th>\n",
       "      <td>467</td>\n",
       "      <td>1304</td>\n",
       "      <td>1924</td>\n",
       "      <td>2061</td>\n",
       "      <td>746</td>\n",
       "      <td>6502</td>\n",
       "    </tr>\n",
       "    <tr>\n",
       "      <th>movie</th>\n",
       "      <td>793</td>\n",
       "      <td>1463</td>\n",
       "      <td>2054</td>\n",
       "      <td>1344</td>\n",
       "      <td>587</td>\n",
       "      <td>6241</td>\n",
       "    </tr>\n",
       "    <tr>\n",
       "      <th>of the</th>\n",
       "      <td>412</td>\n",
       "      <td>1192</td>\n",
       "      <td>2274</td>\n",
       "      <td>1482</td>\n",
       "      <td>761</td>\n",
       "      <td>6121</td>\n",
       "    </tr>\n",
       "    <tr>\n",
       "      <th>this</th>\n",
       "      <td>652</td>\n",
       "      <td>1244</td>\n",
       "      <td>1950</td>\n",
       "      <td>1293</td>\n",
       "      <td>538</td>\n",
       "      <td>5677</td>\n",
       "    </tr>\n",
       "    <tr>\n",
       "      <th>but</th>\n",
       "      <td>229</td>\n",
       "      <td>1303</td>\n",
       "      <td>1877</td>\n",
       "      <td>1434</td>\n",
       "      <td>283</td>\n",
       "      <td>5126</td>\n",
       "    </tr>\n",
       "    <tr>\n",
       "      <th>be</th>\n",
       "      <td>383</td>\n",
       "      <td>1278</td>\n",
       "      <td>1929</td>\n",
       "      <td>1166</td>\n",
       "      <td>297</td>\n",
       "      <td>5053</td>\n",
       "    </tr>\n",
       "    <tr>\n",
       "      <th>on</th>\n",
       "      <td>328</td>\n",
       "      <td>1132</td>\n",
       "      <td>2041</td>\n",
       "      <td>1067</td>\n",
       "      <td>325</td>\n",
       "      <td>4893</td>\n",
       "    </tr>\n",
       "  </tbody>\n",
       "</table>\n",
       "</div>"
      ],
      "text/plain": [
       "        negative  some-negative  neutral  some-positive  positive  total\n",
       "the         3462          10885    20619          12459      4208  51633\n",
       "of          2277           6660    12287           8405      3073  32702\n",
       "and         2549           6204    10241           9180      4003  32177\n",
       "to          1916           5571     8295           5411      1568  22761\n",
       "in          1038           2965     5562           3365      1067  13997\n",
       "is          1372           3362     3703           3489      1550  13476\n",
       "that        1139           2982     3677           3280      1260  12338\n",
       "it          1086           3067     3791           2927       863  11734\n",
       "as           757           2184     2941           2037       732   8651\n",
       "with         452           1533     2471           2365       929   7750\n",
       "for          545           1739     2939           1763       567   7553\n",
       "its          492           1631     2536           1870       522   7051\n",
       "film         480           1281     2175           1848       949   6733\n",
       "an           467           1304     1924           2061       746   6502\n",
       "movie        793           1463     2054           1344       587   6241\n",
       "of the       412           1192     2274           1482       761   6121\n",
       "this         652           1244     1950           1293       538   5677\n",
       "but          229           1303     1877           1434       283   5126\n",
       "be           383           1278     1929           1166       297   5053\n",
       "on           328           1132     2041           1067       325   4893"
      ]
     },
     "execution_count": 41,
     "metadata": {},
     "output_type": "execute_result"
    }
   ],
   "source": [
    "neg_matrix = cvector.transform(data[data.Sentiment == 0].Phrase)\n",
    "som_neg_matrix = cvector.transform(data[data.Sentiment == 1].Phrase)\n",
    "neu_matrix = cvector.transform(data[data.Sentiment == 2].Phrase)\n",
    "som_pos_matrix = cvector.transform(data[data.Sentiment == 3].Phrase)\n",
    "pos_matrix = cvector.transform(data[data.Sentiment == 4].Phrase)\n",
    "\n",
    "neg_words = neg_matrix.sum(axis=0)\n",
    "neg_words_freq = [(word, neg_words[0, idx]) for word, idx in cvector.vocabulary_.items()]\n",
    "neg_tf = pd.DataFrame(list(sorted(neg_words_freq, key = lambda x: x[1], reverse=True)),columns=['Terms','negative'])\n",
    "neg_tf_df = neg_tf.set_index('Terms')\n",
    "\n",
    "som_neg_words = som_neg_matrix.sum(axis=0)\n",
    "som_neg_words_freq = [(word, som_neg_words[0, idx]) for word, idx in cvector.vocabulary_.items()]\n",
    "som_neg_tf = pd.DataFrame(list(sorted(som_neg_words_freq, key = lambda x: x[1], reverse=True)),columns=['Terms','some-negative'])\n",
    "som_neg_tf_df = som_neg_tf.set_index('Terms')\n",
    "#som_neg_tf_df.head()\n",
    "\n",
    "neu_words = neu_matrix.sum(axis=0)\n",
    "neu_words_freq = [(word, neu_words[0, idx]) for word, idx in cvector.vocabulary_.items()]\n",
    "neu_words_tf = pd.DataFrame(list(sorted(neu_words_freq, key = lambda x: x[1], reverse=True)),columns=['Terms','neutral'])\n",
    "neu_words_tf_df = neu_words_tf.set_index('Terms')\n",
    "\n",
    "som_pos_words = som_pos_matrix.sum(axis=0)\n",
    "som_pos_words_freq = [(word, som_pos_words[0, idx]) for word, idx in cvector.vocabulary_.items()]\n",
    "som_pos_words_tf = pd.DataFrame(list(sorted(som_pos_words_freq, key = lambda x: x[1], reverse=True)),columns=['Terms','some-positive'])\n",
    "som_pos_words_tf_df = som_pos_words_tf.set_index('Terms')\n",
    "#som_pos_words_tf_df.head()\n",
    "\n",
    "pos_words = pos_matrix.sum(axis=0)\n",
    "pos_words_freq = [(word, pos_words[0, idx]) for word, idx in cvector.vocabulary_.items()]\n",
    "pos_words_tf = pd.DataFrame(list(sorted(pos_words_freq, key = lambda x: x[1], reverse=True)),columns=['Terms','positive'])\n",
    "pos_words_tf_df = pos_words_tf.set_index('Terms')\n",
    "\n",
    "term_freq_df = pd.concat([neg_tf_df,som_neg_tf_df,neu_words_tf_df,som_pos_words_tf_df,pos_words_tf_df],axis=1)\n",
    "\n",
    "\n",
    "term_freq_df['total'] = term_freq_df['negative'] + term_freq_df['some-negative'] \\\n",
    "                                 + term_freq_df['neutral'] + term_freq_df['some-positive'] \\\n",
    "                                 +  term_freq_df['positive'] \n",
    "term_freq_df.sort_values(by='total', ascending=False).head(20)\n"
   ]
  },
  {
   "cell_type": "markdown",
   "metadata": {},
   "source": [
    "### Extract useful and uniform text"
   ]
  },
  {
   "cell_type": "code",
   "execution_count": 42,
   "metadata": {},
   "outputs": [
    {
     "data": {
      "text/plain": [
       "re.compile(r'<title>(.*)</title>', re.UNICODE)"
      ]
     },
     "execution_count": 42,
     "metadata": {},
     "output_type": "execute_result"
    }
   ],
   "source": [
    "from bs4 import BeautifulSoup\n",
    "import re\n",
    "import nltk\n",
    "from nltk.corpus import stopwords\n",
    "re.compile('<title>(.*)</title>')"
   ]
  },
  {
   "cell_type": "code",
   "execution_count": 43,
   "metadata": {},
   "outputs": [],
   "source": [
    "from nltk import word_tokenize          \n",
    "from nltk.stem.porter import PorterStemmer\n",
    "def stemTokens(tokens):\n",
    "    stemmer = PorterStemmer()\n",
    "    stemmed = []\n",
    "    for token in tokens:\n",
    "        stemmed.append(stemmer.stem(token))\n",
    "    return \" \".join(stemmed)\n",
    "\n",
    "def lemTokens(tokens):\n",
    "    lemmer = nltk.stem.WordNetLemmatizer()\n",
    "    lemmed = []\n",
    "    for token in tokens:\n",
    "        lemmed.append(lemmer.lemmatize(token))\n",
    "    return \" \".join(lemmed)"
   ]
  },
  {
   "cell_type": "code",
   "execution_count": 44,
   "metadata": {},
   "outputs": [],
   "source": [
    "def tokenize (text):\n",
    "      tokens = nltk.word_tokenize(text)\n",
    "      res= lemTokens(tokens)\n",
    "      tokens = nltk.word_tokenize(res)\n",
    "      res = stemTokens(tokens)\n",
    "      return res"
   ]
  },
  {
   "cell_type": "code",
   "execution_count": 45,
   "metadata": {},
   "outputs": [],
   "source": [
    "def review_to_words(review, string = True, remove_stopwords=True):\n",
    "    # Remove HTML\n",
    "    review_text = BeautifulSoup(review).get_text()\n",
    "    # Remove non-letters\n",
    "    review_text = re.sub(\"[^a-zA-Z]\",\" \", review_text)\n",
    "    # Convert words to lower case and split them\n",
    "    words = review_text.lower().split()\n",
    "    # Optionally remove stop words (false by default)\n",
    "    if remove_stopwords:\n",
    "        stops = set(stopwords.words(\"english\"))\n",
    "        words = [w for w in words if not w in stops]\n",
    "    if string:\n",
    "        return \" \".join(words)\n",
    "    else:\n",
    "        return words"
   ]
  },
  {
   "cell_type": "code",
   "execution_count": 46,
   "metadata": {},
   "outputs": [],
   "source": [
    "data['Refined_Phrase']=data['Phrase'].apply(lambda x: review_to_words(x))"
   ]
  },
  {
   "cell_type": "code",
   "execution_count": 47,
   "metadata": {},
   "outputs": [],
   "source": [
    "data['Final_Phrase']=data['Refined_Phrase'].apply(lambda x: tokenize(x))"
   ]
  },
  {
   "cell_type": "code",
   "execution_count": 53,
   "metadata": {},
   "outputs": [
    {
     "data": {
      "text/html": [
       "<div>\n",
       "<style scoped>\n",
       "    .dataframe tbody tr th:only-of-type {\n",
       "        vertical-align: middle;\n",
       "    }\n",
       "\n",
       "    .dataframe tbody tr th {\n",
       "        vertical-align: top;\n",
       "    }\n",
       "\n",
       "    .dataframe thead th {\n",
       "        text-align: right;\n",
       "    }\n",
       "</style>\n",
       "<table border=\"1\" class=\"dataframe\">\n",
       "  <thead>\n",
       "    <tr style=\"text-align: right;\">\n",
       "      <th></th>\n",
       "      <th>Phrase</th>\n",
       "      <th>Sentiment</th>\n",
       "      <th>Polarity</th>\n",
       "      <th>Length</th>\n",
       "      <th>Refined_Phrase</th>\n",
       "      <th>Final_Phrase</th>\n",
       "    </tr>\n",
       "  </thead>\n",
       "  <tbody>\n",
       "    <tr>\n",
       "      <th>0</th>\n",
       "      <td>A series of escapades demonstrating the adage ...</td>\n",
       "      <td>1</td>\n",
       "      <td>somewhat negative</td>\n",
       "      <td>37</td>\n",
       "      <td>series escapades demonstrating adage good goos...</td>\n",
       "      <td>seri escapad demonstr adag good goos also good...</td>\n",
       "    </tr>\n",
       "    <tr>\n",
       "      <th>1</th>\n",
       "      <td>A series of escapades demonstrating the adage ...</td>\n",
       "      <td>2</td>\n",
       "      <td>neutral</td>\n",
       "      <td>14</td>\n",
       "      <td>series escapades demonstrating adage good goose</td>\n",
       "      <td>seri escapad demonstr adag good goos</td>\n",
       "    </tr>\n",
       "    <tr>\n",
       "      <th>2</th>\n",
       "      <td>A series</td>\n",
       "      <td>2</td>\n",
       "      <td>neutral</td>\n",
       "      <td>2</td>\n",
       "      <td>series</td>\n",
       "      <td>seri</td>\n",
       "    </tr>\n",
       "    <tr>\n",
       "      <th>3</th>\n",
       "      <td>A</td>\n",
       "      <td>2</td>\n",
       "      <td>neutral</td>\n",
       "      <td>1</td>\n",
       "      <td></td>\n",
       "      <td></td>\n",
       "    </tr>\n",
       "    <tr>\n",
       "      <th>4</th>\n",
       "      <td>series</td>\n",
       "      <td>2</td>\n",
       "      <td>neutral</td>\n",
       "      <td>1</td>\n",
       "      <td>series</td>\n",
       "      <td>seri</td>\n",
       "    </tr>\n",
       "  </tbody>\n",
       "</table>\n",
       "</div>"
      ],
      "text/plain": [
       "                                              Phrase  Sentiment  \\\n",
       "0  A series of escapades demonstrating the adage ...          1   \n",
       "1  A series of escapades demonstrating the adage ...          2   \n",
       "2                                           A series          2   \n",
       "3                                                  A          2   \n",
       "4                                             series          2   \n",
       "\n",
       "            Polarity  Length  \\\n",
       "0  somewhat negative      37   \n",
       "1            neutral      14   \n",
       "2            neutral       2   \n",
       "3            neutral       1   \n",
       "4            neutral       1   \n",
       "\n",
       "                                      Refined_Phrase  \\\n",
       "0  series escapades demonstrating adage good goos...   \n",
       "1    series escapades demonstrating adage good goose   \n",
       "2                                             series   \n",
       "3                                                      \n",
       "4                                             series   \n",
       "\n",
       "                                        Final_Phrase  \n",
       "0  seri escapad demonstr adag good goos also good...  \n",
       "1               seri escapad demonstr adag good goos  \n",
       "2                                               seri  \n",
       "3                                                     \n",
       "4                                               seri  "
      ]
     },
     "execution_count": 53,
     "metadata": {},
     "output_type": "execute_result"
    }
   ],
   "source": [
    "data.head()"
   ]
  },
  {
   "cell_type": "code",
   "execution_count": 54,
   "metadata": {},
   "outputs": [
    {
     "data": {
      "text/html": [
       "<div>\n",
       "<style scoped>\n",
       "    .dataframe tbody tr th:only-of-type {\n",
       "        vertical-align: middle;\n",
       "    }\n",
       "\n",
       "    .dataframe tbody tr th {\n",
       "        vertical-align: top;\n",
       "    }\n",
       "\n",
       "    .dataframe thead th {\n",
       "        text-align: right;\n",
       "    }\n",
       "</style>\n",
       "<table border=\"1\" class=\"dataframe\">\n",
       "  <thead>\n",
       "    <tr style=\"text-align: right;\">\n",
       "      <th></th>\n",
       "      <th>Phrase</th>\n",
       "      <th>Sentiment</th>\n",
       "      <th>Polarity</th>\n",
       "      <th>Length</th>\n",
       "      <th>Refined_Phrase</th>\n",
       "      <th>Final_Phrase</th>\n",
       "    </tr>\n",
       "  </thead>\n",
       "  <tbody>\n",
       "    <tr>\n",
       "      <th>3</th>\n",
       "      <td>A</td>\n",
       "      <td>2</td>\n",
       "      <td>neutral</td>\n",
       "      <td>1</td>\n",
       "      <td></td>\n",
       "      <td></td>\n",
       "    </tr>\n",
       "    <tr>\n",
       "      <th>6</th>\n",
       "      <td>of</td>\n",
       "      <td>2</td>\n",
       "      <td>neutral</td>\n",
       "      <td>1</td>\n",
       "      <td></td>\n",
       "      <td></td>\n",
       "    </tr>\n",
       "    <tr>\n",
       "      <th>13</th>\n",
       "      <td>the</td>\n",
       "      <td>2</td>\n",
       "      <td>neutral</td>\n",
       "      <td>1</td>\n",
       "      <td></td>\n",
       "      <td></td>\n",
       "    </tr>\n",
       "    <tr>\n",
       "      <th>16</th>\n",
       "      <td>that</td>\n",
       "      <td>2</td>\n",
       "      <td>neutral</td>\n",
       "      <td>1</td>\n",
       "      <td></td>\n",
       "      <td></td>\n",
       "    </tr>\n",
       "    <tr>\n",
       "      <th>18</th>\n",
       "      <td>what</td>\n",
       "      <td>2</td>\n",
       "      <td>neutral</td>\n",
       "      <td>1</td>\n",
       "      <td></td>\n",
       "      <td></td>\n",
       "    </tr>\n",
       "    <tr>\n",
       "      <th>20</th>\n",
       "      <td>is</td>\n",
       "      <td>2</td>\n",
       "      <td>neutral</td>\n",
       "      <td>1</td>\n",
       "      <td></td>\n",
       "      <td></td>\n",
       "    </tr>\n",
       "    <tr>\n",
       "      <th>24</th>\n",
       "      <td>for</td>\n",
       "      <td>2</td>\n",
       "      <td>neutral</td>\n",
       "      <td>1</td>\n",
       "      <td></td>\n",
       "      <td></td>\n",
       "    </tr>\n",
       "    <tr>\n",
       "      <th>37</th>\n",
       "      <td>,</td>\n",
       "      <td>2</td>\n",
       "      <td>neutral</td>\n",
       "      <td>1</td>\n",
       "      <td></td>\n",
       "      <td></td>\n",
       "    </tr>\n",
       "    <tr>\n",
       "      <th>39</th>\n",
       "      <td>some of which</td>\n",
       "      <td>2</td>\n",
       "      <td>neutral</td>\n",
       "      <td>3</td>\n",
       "      <td></td>\n",
       "      <td></td>\n",
       "    </tr>\n",
       "    <tr>\n",
       "      <th>40</th>\n",
       "      <td>some</td>\n",
       "      <td>2</td>\n",
       "      <td>neutral</td>\n",
       "      <td>1</td>\n",
       "      <td></td>\n",
       "      <td></td>\n",
       "    </tr>\n",
       "  </tbody>\n",
       "</table>\n",
       "</div>"
      ],
      "text/plain": [
       "           Phrase  Sentiment Polarity  Length Refined_Phrase Final_Phrase\n",
       "3               A          2  neutral       1                            \n",
       "6              of          2  neutral       1                            \n",
       "13            the          2  neutral       1                            \n",
       "16           that          2  neutral       1                            \n",
       "18           what          2  neutral       1                            \n",
       "20             is          2  neutral       1                            \n",
       "24            for          2  neutral       1                            \n",
       "37              ,          2  neutral       1                            \n",
       "39  some of which          2  neutral       3                            \n",
       "40           some          2  neutral       1                            "
      ]
     },
     "execution_count": 54,
     "metadata": {},
     "output_type": "execute_result"
    }
   ],
   "source": [
    "data[data['Final_Phrase'].str.len() == 0].head(10)"
   ]
  },
  {
   "cell_type": "code",
   "execution_count": 55,
   "metadata": {},
   "outputs": [],
   "source": [
    "data.to_csv(\"refined_phrases.csv\")"
   ]
  },
  {
   "cell_type": "code",
   "execution_count": 8,
   "metadata": {},
   "outputs": [],
   "source": [
    "data=pd.read_csv(\"refined_phrases.csv\",index_col=0)"
   ]
  },
  {
   "cell_type": "code",
   "execution_count": 9,
   "metadata": {},
   "outputs": [
    {
     "data": {
      "text/html": [
       "<div>\n",
       "<style scoped>\n",
       "    .dataframe tbody tr th:only-of-type {\n",
       "        vertical-align: middle;\n",
       "    }\n",
       "\n",
       "    .dataframe tbody tr th {\n",
       "        vertical-align: top;\n",
       "    }\n",
       "\n",
       "    .dataframe thead th {\n",
       "        text-align: right;\n",
       "    }\n",
       "</style>\n",
       "<table border=\"1\" class=\"dataframe\">\n",
       "  <thead>\n",
       "    <tr style=\"text-align: right;\">\n",
       "      <th></th>\n",
       "      <th>Phrase</th>\n",
       "      <th>Sentiment</th>\n",
       "      <th>Polarity</th>\n",
       "      <th>Length</th>\n",
       "      <th>Refined_Phrase</th>\n",
       "      <th>Final_Phrase</th>\n",
       "    </tr>\n",
       "  </thead>\n",
       "  <tbody>\n",
       "    <tr>\n",
       "      <th>0</th>\n",
       "      <td>A series of escapades demonstrating the adage ...</td>\n",
       "      <td>1</td>\n",
       "      <td>somewhat negative</td>\n",
       "      <td>37</td>\n",
       "      <td>series escapades demonstrating adage good goos...</td>\n",
       "      <td>seri escapad demonstr adag good goos also good...</td>\n",
       "    </tr>\n",
       "    <tr>\n",
       "      <th>1</th>\n",
       "      <td>A series of escapades demonstrating the adage ...</td>\n",
       "      <td>2</td>\n",
       "      <td>neutral</td>\n",
       "      <td>14</td>\n",
       "      <td>series escapades demonstrating adage good goose</td>\n",
       "      <td>seri escapad demonstr adag good goos</td>\n",
       "    </tr>\n",
       "    <tr>\n",
       "      <th>2</th>\n",
       "      <td>A series</td>\n",
       "      <td>2</td>\n",
       "      <td>neutral</td>\n",
       "      <td>2</td>\n",
       "      <td>series</td>\n",
       "      <td>seri</td>\n",
       "    </tr>\n",
       "    <tr>\n",
       "      <th>3</th>\n",
       "      <td>A</td>\n",
       "      <td>2</td>\n",
       "      <td>neutral</td>\n",
       "      <td>1</td>\n",
       "      <td>NaN</td>\n",
       "      <td>NaN</td>\n",
       "    </tr>\n",
       "    <tr>\n",
       "      <th>4</th>\n",
       "      <td>series</td>\n",
       "      <td>2</td>\n",
       "      <td>neutral</td>\n",
       "      <td>1</td>\n",
       "      <td>series</td>\n",
       "      <td>seri</td>\n",
       "    </tr>\n",
       "  </tbody>\n",
       "</table>\n",
       "</div>"
      ],
      "text/plain": [
       "                                              Phrase  Sentiment  \\\n",
       "0  A series of escapades demonstrating the adage ...          1   \n",
       "1  A series of escapades demonstrating the adage ...          2   \n",
       "2                                           A series          2   \n",
       "3                                                  A          2   \n",
       "4                                             series          2   \n",
       "\n",
       "            Polarity  Length  \\\n",
       "0  somewhat negative      37   \n",
       "1            neutral      14   \n",
       "2            neutral       2   \n",
       "3            neutral       1   \n",
       "4            neutral       1   \n",
       "\n",
       "                                      Refined_Phrase  \\\n",
       "0  series escapades demonstrating adage good goos...   \n",
       "1    series escapades demonstrating adage good goose   \n",
       "2                                             series   \n",
       "3                                                NaN   \n",
       "4                                             series   \n",
       "\n",
       "                                        Final_Phrase  \n",
       "0  seri escapad demonstr adag good goos also good...  \n",
       "1               seri escapad demonstr adag good goos  \n",
       "2                                               seri  \n",
       "3                                                NaN  \n",
       "4                                               seri  "
      ]
     },
     "execution_count": 9,
     "metadata": {},
     "output_type": "execute_result"
    }
   ],
   "source": [
    "data.head()"
   ]
  },
  {
   "cell_type": "code",
   "execution_count": 10,
   "metadata": {},
   "outputs": [
    {
     "data": {
      "text/html": [
       "<div>\n",
       "<style scoped>\n",
       "    .dataframe tbody tr th:only-of-type {\n",
       "        vertical-align: middle;\n",
       "    }\n",
       "\n",
       "    .dataframe tbody tr th {\n",
       "        vertical-align: top;\n",
       "    }\n",
       "\n",
       "    .dataframe thead th {\n",
       "        text-align: right;\n",
       "    }\n",
       "</style>\n",
       "<table border=\"1\" class=\"dataframe\">\n",
       "  <thead>\n",
       "    <tr style=\"text-align: right;\">\n",
       "      <th></th>\n",
       "      <th>Phrase</th>\n",
       "      <th>Sentiment</th>\n",
       "      <th>Polarity</th>\n",
       "      <th>Length</th>\n",
       "      <th>Refined_Phrase</th>\n",
       "      <th>Final_Phrase</th>\n",
       "    </tr>\n",
       "  </thead>\n",
       "  <tbody>\n",
       "    <tr>\n",
       "      <th>0</th>\n",
       "      <td>A series of escapades demonstrating the adage ...</td>\n",
       "      <td>1</td>\n",
       "      <td>somewhat negative</td>\n",
       "      <td>37</td>\n",
       "      <td>series escapades demonstrating adage good goos...</td>\n",
       "      <td>seri escapad demonstr adag good goos also good...</td>\n",
       "    </tr>\n",
       "    <tr>\n",
       "      <th>1</th>\n",
       "      <td>A series of escapades demonstrating the adage ...</td>\n",
       "      <td>2</td>\n",
       "      <td>neutral</td>\n",
       "      <td>14</td>\n",
       "      <td>series escapades demonstrating adage good goose</td>\n",
       "      <td>seri escapad demonstr adag good goos</td>\n",
       "    </tr>\n",
       "    <tr>\n",
       "      <th>2</th>\n",
       "      <td>A series</td>\n",
       "      <td>2</td>\n",
       "      <td>neutral</td>\n",
       "      <td>2</td>\n",
       "      <td>series</td>\n",
       "      <td>seri</td>\n",
       "    </tr>\n",
       "    <tr>\n",
       "      <th>3</th>\n",
       "      <td>A</td>\n",
       "      <td>2</td>\n",
       "      <td>neutral</td>\n",
       "      <td>1</td>\n",
       "      <td></td>\n",
       "      <td></td>\n",
       "    </tr>\n",
       "    <tr>\n",
       "      <th>4</th>\n",
       "      <td>series</td>\n",
       "      <td>2</td>\n",
       "      <td>neutral</td>\n",
       "      <td>1</td>\n",
       "      <td>series</td>\n",
       "      <td>seri</td>\n",
       "    </tr>\n",
       "    <tr>\n",
       "      <th>5</th>\n",
       "      <td>of escapades demonstrating the adage that what...</td>\n",
       "      <td>2</td>\n",
       "      <td>neutral</td>\n",
       "      <td>12</td>\n",
       "      <td>escapades demonstrating adage good goose</td>\n",
       "      <td>escapad demonstr adag good goos</td>\n",
       "    </tr>\n",
       "    <tr>\n",
       "      <th>6</th>\n",
       "      <td>of</td>\n",
       "      <td>2</td>\n",
       "      <td>neutral</td>\n",
       "      <td>1</td>\n",
       "      <td></td>\n",
       "      <td></td>\n",
       "    </tr>\n",
       "    <tr>\n",
       "      <th>7</th>\n",
       "      <td>escapades demonstrating the adage that what is...</td>\n",
       "      <td>2</td>\n",
       "      <td>neutral</td>\n",
       "      <td>11</td>\n",
       "      <td>escapades demonstrating adage good goose</td>\n",
       "      <td>escapad demonstr adag good goos</td>\n",
       "    </tr>\n",
       "    <tr>\n",
       "      <th>8</th>\n",
       "      <td>escapades</td>\n",
       "      <td>2</td>\n",
       "      <td>neutral</td>\n",
       "      <td>1</td>\n",
       "      <td>escapades</td>\n",
       "      <td>escapad</td>\n",
       "    </tr>\n",
       "    <tr>\n",
       "      <th>9</th>\n",
       "      <td>demonstrating the adage that what is good for ...</td>\n",
       "      <td>2</td>\n",
       "      <td>neutral</td>\n",
       "      <td>10</td>\n",
       "      <td>demonstrating adage good goose</td>\n",
       "      <td>demonstr adag good goos</td>\n",
       "    </tr>\n",
       "  </tbody>\n",
       "</table>\n",
       "</div>"
      ],
      "text/plain": [
       "                                              Phrase  Sentiment  \\\n",
       "0  A series of escapades demonstrating the adage ...          1   \n",
       "1  A series of escapades demonstrating the adage ...          2   \n",
       "2                                           A series          2   \n",
       "3                                                  A          2   \n",
       "4                                             series          2   \n",
       "5  of escapades demonstrating the adage that what...          2   \n",
       "6                                                 of          2   \n",
       "7  escapades demonstrating the adage that what is...          2   \n",
       "8                                          escapades          2   \n",
       "9  demonstrating the adage that what is good for ...          2   \n",
       "\n",
       "            Polarity  Length  \\\n",
       "0  somewhat negative      37   \n",
       "1            neutral      14   \n",
       "2            neutral       2   \n",
       "3            neutral       1   \n",
       "4            neutral       1   \n",
       "5            neutral      12   \n",
       "6            neutral       1   \n",
       "7            neutral      11   \n",
       "8            neutral       1   \n",
       "9            neutral      10   \n",
       "\n",
       "                                      Refined_Phrase  \\\n",
       "0  series escapades demonstrating adage good goos...   \n",
       "1    series escapades demonstrating adage good goose   \n",
       "2                                             series   \n",
       "3                                                      \n",
       "4                                             series   \n",
       "5           escapades demonstrating adage good goose   \n",
       "6                                                      \n",
       "7           escapades demonstrating adage good goose   \n",
       "8                                          escapades   \n",
       "9                     demonstrating adage good goose   \n",
       "\n",
       "                                        Final_Phrase  \n",
       "0  seri escapad demonstr adag good goos also good...  \n",
       "1               seri escapad demonstr adag good goos  \n",
       "2                                               seri  \n",
       "3                                                     \n",
       "4                                               seri  \n",
       "5                    escapad demonstr adag good goos  \n",
       "6                                                     \n",
       "7                    escapad demonstr adag good goos  \n",
       "8                                            escapad  \n",
       "9                            demonstr adag good goos  "
      ]
     },
     "execution_count": 10,
     "metadata": {},
     "output_type": "execute_result"
    }
   ],
   "source": [
    "data.isna().sum()\n",
    "data=data.fillna(\"\")\n",
    "data.head(10)"
   ]
  },
  {
   "cell_type": "code",
   "execution_count": 11,
   "metadata": {},
   "outputs": [
    {
     "data": {
      "text/plain": [
       "Phrase            0\n",
       "Sentiment         0\n",
       "Polarity          0\n",
       "Length            0\n",
       "Refined_Phrase    0\n",
       "Final_Phrase      0\n",
       "dtype: int64"
      ]
     },
     "execution_count": 11,
     "metadata": {},
     "output_type": "execute_result"
    }
   ],
   "source": [
    "data.isna().sum()"
   ]
  },
  {
   "cell_type": "markdown",
   "metadata": {},
   "source": [
    "#### Objects with empty final phrase are of same sentiment i.e. no need to insert any other value"
   ]
  },
  {
   "cell_type": "code",
   "execution_count": 12,
   "metadata": {},
   "outputs": [
    {
     "data": {
      "text/html": [
       "<div>\n",
       "<style scoped>\n",
       "    .dataframe tbody tr th:only-of-type {\n",
       "        vertical-align: middle;\n",
       "    }\n",
       "\n",
       "    .dataframe tbody tr th {\n",
       "        vertical-align: top;\n",
       "    }\n",
       "\n",
       "    .dataframe thead th {\n",
       "        text-align: right;\n",
       "    }\n",
       "</style>\n",
       "<table border=\"1\" class=\"dataframe\">\n",
       "  <thead>\n",
       "    <tr style=\"text-align: right;\">\n",
       "      <th></th>\n",
       "      <th>Sentiment</th>\n",
       "      <th>Polarity</th>\n",
       "      <th>Final_Phrase</th>\n",
       "    </tr>\n",
       "  </thead>\n",
       "  <tbody>\n",
       "    <tr>\n",
       "      <th>0</th>\n",
       "      <td>1</td>\n",
       "      <td>somewhat negative</td>\n",
       "      <td>seri escapad demonstr adag good goos also good...</td>\n",
       "    </tr>\n",
       "    <tr>\n",
       "      <th>1</th>\n",
       "      <td>2</td>\n",
       "      <td>neutral</td>\n",
       "      <td>seri escapad demonstr adag good goos</td>\n",
       "    </tr>\n",
       "    <tr>\n",
       "      <th>2</th>\n",
       "      <td>2</td>\n",
       "      <td>neutral</td>\n",
       "      <td>seri</td>\n",
       "    </tr>\n",
       "    <tr>\n",
       "      <th>3</th>\n",
       "      <td>2</td>\n",
       "      <td>neutral</td>\n",
       "      <td></td>\n",
       "    </tr>\n",
       "    <tr>\n",
       "      <th>4</th>\n",
       "      <td>2</td>\n",
       "      <td>neutral</td>\n",
       "      <td>seri</td>\n",
       "    </tr>\n",
       "  </tbody>\n",
       "</table>\n",
       "</div>"
      ],
      "text/plain": [
       "   Sentiment           Polarity  \\\n",
       "0          1  somewhat negative   \n",
       "1          2            neutral   \n",
       "2          2            neutral   \n",
       "3          2            neutral   \n",
       "4          2            neutral   \n",
       "\n",
       "                                        Final_Phrase  \n",
       "0  seri escapad demonstr adag good goos also good...  \n",
       "1               seri escapad demonstr adag good goos  \n",
       "2                                               seri  \n",
       "3                                                     \n",
       "4                                               seri  "
      ]
     },
     "execution_count": 12,
     "metadata": {},
     "output_type": "execute_result"
    }
   ],
   "source": [
    "data=data.drop(['Phrase','Refined_Phrase','Length'],axis=1)\n",
    "data.head()"
   ]
  },
  {
   "cell_type": "code",
   "execution_count": 13,
   "metadata": {},
   "outputs": [
    {
     "name": "stdout",
     "output_type": "stream",
     "text": [
      "<class 'pandas.core.frame.DataFrame'>\n",
      "Int64Index: 156060 entries, 0 to 156059\n",
      "Data columns (total 3 columns):\n",
      "Sentiment       156060 non-null int64\n",
      "Polarity        156060 non-null object\n",
      "Final_Phrase    156060 non-null object\n",
      "dtypes: int64(1), object(2)\n",
      "memory usage: 4.8+ MB\n"
     ]
    }
   ],
   "source": [
    "data.info()"
   ]
  },
  {
   "cell_type": "code",
   "execution_count": 62,
   "metadata": {},
   "outputs": [],
   "source": [
    "matrix2 = cvector.transform(data.Final_Phrase)\n",
    "words2 = matrix2.sum(axis=0)\n",
    "words_freq2 = [(word, words2[0, idx]) for word, idx in cvector.vocabulary_.items()]\n",
    "tf2 = pd.DataFrame(list(sorted(words_freq2, key = lambda x: x[1], reverse=True)),columns=['Terms','frequency'])"
   ]
  },
  {
   "cell_type": "code",
   "execution_count": 63,
   "metadata": {},
   "outputs": [
    {
     "data": {
      "text/html": [
       "<div>\n",
       "<style scoped>\n",
       "    .dataframe tbody tr th:only-of-type {\n",
       "        vertical-align: middle;\n",
       "    }\n",
       "\n",
       "    .dataframe tbody tr th {\n",
       "        vertical-align: top;\n",
       "    }\n",
       "\n",
       "    .dataframe thead th {\n",
       "        text-align: right;\n",
       "    }\n",
       "</style>\n",
       "<table border=\"1\" class=\"dataframe\">\n",
       "  <thead>\n",
       "    <tr style=\"text-align: right;\">\n",
       "      <th></th>\n",
       "      <th>Terms</th>\n",
       "      <th>frequency</th>\n",
       "    </tr>\n",
       "  </thead>\n",
       "  <tbody>\n",
       "    <tr>\n",
       "      <th>0</th>\n",
       "      <td>film</td>\n",
       "      <td>7831</td>\n",
       "    </tr>\n",
       "    <tr>\n",
       "      <th>1</th>\n",
       "      <td>one</td>\n",
       "      <td>3958</td>\n",
       "    </tr>\n",
       "    <tr>\n",
       "      <th>2</th>\n",
       "      <td>like</td>\n",
       "      <td>3602</td>\n",
       "    </tr>\n",
       "    <tr>\n",
       "      <th>3</th>\n",
       "      <td>make</td>\n",
       "      <td>2968</td>\n",
       "    </tr>\n",
       "    <tr>\n",
       "      <th>4</th>\n",
       "      <td>time</td>\n",
       "      <td>2622</td>\n",
       "    </tr>\n",
       "    <tr>\n",
       "      <th>5</th>\n",
       "      <td>rrb</td>\n",
       "      <td>2438</td>\n",
       "    </tr>\n",
       "    <tr>\n",
       "      <th>6</th>\n",
       "      <td>good</td>\n",
       "      <td>2331</td>\n",
       "    </tr>\n",
       "    <tr>\n",
       "      <th>7</th>\n",
       "      <td>lrb</td>\n",
       "      <td>2098</td>\n",
       "    </tr>\n",
       "    <tr>\n",
       "      <th>8</th>\n",
       "      <td>life</td>\n",
       "      <td>2096</td>\n",
       "    </tr>\n",
       "    <tr>\n",
       "      <th>9</th>\n",
       "      <td>work</td>\n",
       "      <td>2061</td>\n",
       "    </tr>\n",
       "  </tbody>\n",
       "</table>\n",
       "</div>"
      ],
      "text/plain": [
       "  Terms  frequency\n",
       "0  film       7831\n",
       "1   one       3958\n",
       "2  like       3602\n",
       "3  make       2968\n",
       "4  time       2622\n",
       "5   rrb       2438\n",
       "6  good       2331\n",
       "7   lrb       2098\n",
       "8  life       2096\n",
       "9  work       2061"
      ]
     },
     "execution_count": 63,
     "metadata": {},
     "output_type": "execute_result"
    }
   ],
   "source": [
    "tf2.head(10)"
   ]
  },
  {
   "cell_type": "code",
   "execution_count": 64,
   "metadata": {},
   "outputs": [
    {
     "data": {
      "text/plain": [
       "Text(0.5,1,'Top 50 words in movie reviews')"
      ]
     },
     "execution_count": 64,
     "metadata": {},
     "output_type": "execute_result"
    },
    {
     "data": {
      "image/png": "[encoded data removed]",
      "text/plain": [
       "<Figure size 864x720 with 1 Axes>"
      ]
     },
     "metadata": {},
     "output_type": "display_data"
    }
   ],
   "source": [
    "y_pos = np.arange(50)\n",
    "plt.figure(figsize=(12,10))\n",
    "plt.bar(y_pos, tf2['frequency'][:50], align='center', alpha=0.5)\n",
    "plt.xticks(y_pos, tf2['Terms'][:50],rotation='vertical')\n",
    "plt.ylabel('Frequency')\n",
    "plt.xlabel('Top 50 words')\n",
    "plt.title('Top 50 words in movie reviews')"
   ]
  },
  {
   "cell_type": "code",
   "execution_count": 14,
   "metadata": {},
   "outputs": [
    {
     "name": "stdout",
     "output_type": "stream",
     "text": [
      "neutral              79582\n",
      "somewhat positive    32927\n",
      "somewhat negative    27273\n",
      "positive              9206\n",
      "negative              7072\n",
      "Name: Polarity, dtype: int64\n"
     ]
    },
    {
     "data": {
      "text/plain": [
       "Text(0.5,0,'Sentiment expressed in Reviews')"
      ]
     },
     "execution_count": 14,
     "metadata": {},
     "output_type": "execute_result"
    },
    {
     "data": {
      "image/png": "[encoded data removed]",
      "text/plain": [
       "<Figure size 432x288 with 1 Axes>"
      ]
     },
     "metadata": {},
     "output_type": "display_data"
    }
   ],
   "source": [
    "Index = [1,2,3,4,5]\n",
    "print(data.Polarity.value_counts())\n",
    "plt.bar(Index,data.Polarity.value_counts())\n",
    "plt.xticks(Index,['neutral','somewhat positive','somewhat negative','positive','negative'],rotation=45)\n",
    "plt.ylabel('Number of Reviews')\n",
    "plt.xlabel('Sentiment expressed in Reviews')"
   ]
  },
  {
   "cell_type": "code",
   "execution_count": 15,
   "metadata": {},
   "outputs": [],
   "source": [
    "sent_2 = data[data['Sentiment']==2]\n",
    "#we will copy class 0, 11 times\n",
    "sent_0 = data[data['Sentiment']==0]\n",
    "#we will copy class 1, 2 times\n",
    "sent_1 = data[data['Sentiment']==1]\n",
    "#we will copy class 3, 2 times\n",
    "sent_3 = data[data['Sentiment']==3]\n",
    "#we will copy class 4, 8 times\n",
    "sent_4 = data[data['Sentiment']==4]\n",
    "\n",
    "#-----------------------------------------------------\n",
    "data = data.append([sent_0,sent_0,sent_0,sent_0,sent_0,sent_0,sent_0,sent_0,sent_0,sent_0])\n",
    "data = data.append([sent_1,sent_1])\n",
    "data = data.append([sent_3])\n",
    "data = data.append([sent_4,sent_4,sent_4,sent_4,sent_4,sent_4,sent_4])"
   ]
  },
  {
   "cell_type": "code",
   "execution_count": 16,
   "metadata": {},
   "outputs": [
    {
     "data": {
      "text/plain": [
       "<matplotlib.axes._subplots.AxesSubplot at 0x26de8075400>"
      ]
     },
     "execution_count": 16,
     "metadata": {},
     "output_type": "execute_result"
    },
    {
     "data": {
      "image/png": "[encoded data removed]",
      "text/plain": [
       "<Figure size 432x288 with 1 Axes>"
      ]
     },
     "metadata": {},
     "output_type": "display_data"
    }
   ],
   "source": [
    "sns.countplot(data=data,x='Sentiment')"
   ]
  },
  {
   "cell_type": "markdown",
   "metadata": {},
   "source": [
    "## TF-IDF vs Count Vectorize"
   ]
  },
  {
   "cell_type": "markdown",
   "metadata": {},
   "source": [
    "### Count Vectorize- ( Convert collection of text documents to a matrix of the counts of occurences of each word in the document.)"
   ]
  },
  {
   "cell_type": "markdown",
   "metadata": {},
   "source": [
    "### TF-IDF (stands for Term-Frequency-Inverse-Document Frequency) weights down the common words occuring in almost all the documents and give more importance to the words that appear in a subset of documents."
   ]
  },
  {
   "cell_type": "markdown",
   "metadata": {},
   "source": [
    "#### In other words, the rth most frequent word has a frequency f(r) that scales according to\n",
    "#### f(r)∝1/r^α for α≈1"
   ]
  },
  {
   "cell_type": "code",
   "execution_count": 17,
   "metadata": {},
   "outputs": [],
   "source": [
    "from sklearn.model_selection import train_test_split\n",
    "X = data['Final_Phrase']\n",
    "y = data['Sentiment']\n",
    "x_train,x_test,y_train,y_test = train_test_split(X,y)"
   ]
  },
  {
   "cell_type": "code",
   "execution_count": 18,
   "metadata": {},
   "outputs": [],
   "source": [
    "from sklearn.feature_extraction.text import CountVectorizer, TfidfVectorizer\n",
    "\n",
    "cv = CountVectorizer(stop_words='english',max_features=10000)\n",
    "cv_train_features = cv.fit_transform(x_train)\n",
    "cv_test_features = cv.transform(x_test)\n",
    "\n",
    "tv = TfidfVectorizer(min_df=0.0, max_df=1.0, ngram_range=(1,2),sublinear_tf=True)\n",
    "tv_train_features = tv.fit_transform(x_train)\n",
    "tv_test_features = tv.transform(x_test)"
   ]
  },
  {
   "cell_type": "code",
   "execution_count": 70,
   "metadata": {},
   "outputs": [
    {
     "name": "stdout",
     "output_type": "stream",
     "text": [
      "BOW model:> Train features shape: (284021, 10000)  Test features shape: (94674, 10000)\n",
      "TFIDF model:> Train features shape: (284021, 73295)  Test features shape: (94674, 73295)\n"
     ]
    }
   ],
   "source": [
    "print('BOW model:> Train features shape:', cv_train_features.shape, ' Test features shape:', cv_test_features.shape)\n",
    "print('TFIDF model:> Train features shape:', tv_train_features.shape, ' Test features shape:', tv_test_features.shape)"
   ]
  },
  {
   "cell_type": "code",
   "execution_count": 21,
   "metadata": {},
   "outputs": [],
   "source": [
    "from sklearn import metrics\n",
    "from sklearn.preprocessing import LabelEncoder\n",
    "from sklearn.base import clone\n",
    "from sklearn.preprocessing import label_binarize\n",
    "from scipy import interp\n",
    "from sklearn.metrics import roc_curve, auc \n",
    "\n",
    "\n",
    "def get_metrics(true_labels, predicted_labels):\n",
    "    \n",
    "    print('Accuracy:', np.round(\n",
    "                        metrics.accuracy_score(true_labels, \n",
    "                                               predicted_labels),\n",
    "                        4))\n",
    "    print('Precision:', np.round(\n",
    "                        metrics.precision_score(true_labels, \n",
    "                                               predicted_labels,\n",
    "                                               average='weighted'),\n",
    "                        4))\n",
    "    print('Recall:', np.round(\n",
    "                        metrics.recall_score(true_labels, \n",
    "                                               predicted_labels,\n",
    "                                               average='weighted'),\n",
    "                        4))\n",
    "    print('F1 Score:', np.round(\n",
    "                        metrics.f1_score(true_labels, \n",
    "                                               predicted_labels,\n",
    "                                               average='weighted'),\n",
    "                        4))\n",
    "                        \n",
    "\n",
    "def train_predict_model(classifier, \n",
    "                        train_features, train_labels, \n",
    "                        test_features, test_labels):\n",
    "    # build model    \n",
    "    classifier.fit(train_features, train_labels)\n",
    "    # predict using model\n",
    "    predictions = classifier.predict(test_features) \n",
    "    return predictions    \n",
    "\n",
    "\n",
    "def display_confusion_matrix(true_labels, predicted_labels, classes=[1,0]):\n",
    "    \n",
    "    total_classes = len(classes)\n",
    "    level_labels = [total_classes*[0], list(range(total_classes))]\n",
    "\n",
    "    cm = metrics.confusion_matrix(y_true=true_labels, y_pred=predicted_labels, \n",
    "                                  labels=classes)\n",
    "    cm_frame = pd.DataFrame(data=cm, \n",
    "                            columns=pd.MultiIndex(levels=[['Predicted:'], classes], \n",
    "                                                  labels=level_labels), \n",
    "                            index=pd.MultiIndex(levels=[['Actual:'], classes], \n",
    "                                                labels=level_labels)) \n",
    "    print(cm_frame) \n",
    "    \n",
    "def display_classification_report(true_labels, predicted_labels, classes=[1,0]):\n",
    "\n",
    "    report = metrics.classification_report(y_true=true_labels, \n",
    "                                           y_pred=predicted_labels, \n",
    "                                           labels=classes) \n",
    "    print(report)\n",
    "    \n",
    "    \n",
    "    \n",
    "def display_model_performance_metrics(true_labels, predicted_labels, classes=[1,0]):\n",
    "    print('Model Performance metrics:')\n",
    "    print('-'*30)\n",
    "    get_metrics(true_labels=true_labels, predicted_labels=predicted_labels)\n",
    "    print('\\nModel Classification report:')\n",
    "    print('-'*30)\n",
    "    display_classification_report(true_labels=true_labels, predicted_labels=predicted_labels, \n",
    "                                  classes=classes)\n",
    "    print('\\nPrediction Confusion Matrix:')\n",
    "    print('-'*30)\n",
    "    display_confusion_matrix(true_labels=true_labels, predicted_labels=predicted_labels, \n",
    "                             classes=classes)"
   ]
  },
  {
   "cell_type": "markdown",
   "metadata": {},
   "source": [
    "## Test1- The Naive Bayes"
   ]
  },
  {
   "cell_type": "markdown",
   "metadata": {},
   "source": [
    "### Count Vectorizer"
   ]
  },
  {
   "cell_type": "code",
   "execution_count": 134,
   "metadata": {},
   "outputs": [],
   "source": [
    "from sklearn.naive_bayes import MultinomialNB\n",
    "NB=MultinomialNB()"
   ]
  },
  {
   "cell_type": "code",
   "execution_count": 135,
   "metadata": {},
   "outputs": [
    {
     "name": "stdout",
     "output_type": "stream",
     "text": [
      "Model Performance metrics:\n",
      "------------------------------\n",
      "Accuracy: 0.5348\n",
      "Precision: 0.5237\n",
      "Recall: 0.5348\n",
      "F1 Score: 0.5175\n",
      "\n",
      "Model Classification report:\n",
      "------------------------------\n",
      "              precision    recall  f1-score   support\n",
      "\n",
      "           0       0.57      0.76      0.65     19372\n",
      "           1       0.48      0.46      0.47     20469\n",
      "           2       0.51      0.33      0.40     20060\n",
      "           3       0.47      0.34      0.40     16425\n",
      "           4       0.58      0.79      0.67     18348\n",
      "\n",
      "    accuracy                           0.53     94674\n",
      "   macro avg       0.52      0.53      0.52     94674\n",
      "weighted avg       0.52      0.53      0.52     94674\n",
      "\n",
      "\n",
      "Prediction Confusion Matrix:\n",
      "------------------------------\n",
      "          Predicted:                         \n",
      "                   0     1     2     3      4\n",
      "Actual: 0      14628  3362   699   264    419\n",
      "        1       6299  9343  2720  1057   1050\n",
      "        2       3215  4735  6562  2558   2990\n",
      "        3       1040  1415  2320  5619   6031\n",
      "        4        417   440   542  2468  14481\n"
     ]
    }
   ],
   "source": [
    "nb_bow_predictions = train_predict_model(classifier=NB, train_features=cv_train_features, train_labels=y_train,\n",
    "                                        test_features=cv_test_features, test_labels=y_test)\n",
    "display_model_performance_metrics(true_labels=y_test, predicted_labels=nb_bow_predictions,classes=[0,1,2,3,4])"
   ]
  },
  {
   "cell_type": "markdown",
   "metadata": {},
   "source": [
    "### TF-IDF"
   ]
  },
  {
   "cell_type": "code",
   "execution_count": 136,
   "metadata": {},
   "outputs": [
    {
     "name": "stdout",
     "output_type": "stream",
     "text": [
      "Model Performance metrics:\n",
      "------------------------------\n",
      "Accuracy: 0.6344\n",
      "Precision: 0.627\n",
      "Recall: 0.6344\n",
      "F1 Score: 0.6181\n",
      "\n",
      "Model Classification report:\n",
      "------------------------------\n",
      "              precision    recall  f1-score   support\n",
      "\n",
      "           0       0.66      0.87      0.75     19372\n",
      "           1       0.61      0.58      0.59     20469\n",
      "           2       0.61      0.41      0.49     20060\n",
      "           3       0.60      0.43      0.50     16425\n",
      "           4       0.66      0.88      0.76     18348\n",
      "\n",
      "    accuracy                           0.63     94674\n",
      "   macro avg       0.63      0.63      0.62     94674\n",
      "weighted avg       0.63      0.63      0.62     94674\n",
      "\n",
      "\n",
      "Prediction Confusion Matrix:\n",
      "------------------------------\n",
      "          Predicted:                          \n",
      "                   0      1     2     3      4\n",
      "Actual: 0      16797   2157   278    22    118\n",
      "        1       5404  11828  2265   508    464\n",
      "        2       2628   4388  8219  2485   2340\n",
      "        3        652    980  2543  7006   5244\n",
      "        4         94    117   262  1666  16209\n"
     ]
    }
   ],
   "source": [
    "nb_tfidf_predictions = train_predict_model(classifier=NB, train_features=tv_train_features, train_labels=y_train,\n",
    "                                            test_features=tv_test_features, test_labels=y_test)\n",
    "display_model_performance_metrics(true_labels=y_test, predicted_labels=nb_tfidf_predictions,classes=[0,1,2,3,4])"
   ]
  },
  {
   "cell_type": "markdown",
   "metadata": {},
   "source": [
    "#### We see TF-IDF is performing better in terms of all performance measures"
   ]
  },
  {
   "cell_type": "markdown",
   "metadata": {},
   "source": [
    "#### Performance on Naive Bayes is not too good. Threshold accuracy should be atleast 80%"
   ]
  },
  {
   "cell_type": "markdown",
   "metadata": {},
   "source": [
    "## Test2- K Nearest Neigbors"
   ]
  },
  {
   "cell_type": "code",
   "execution_count": 31,
   "metadata": {},
   "outputs": [],
   "source": [
    "from sklearn.neighbors import KNeighborsClassifier\n",
    "KNN=KNeighborsClassifier(n_neighbors=8)"
   ]
  },
  {
   "cell_type": "markdown",
   "metadata": {},
   "source": [
    "### Elbow method to find N"
   ]
  },
  {
   "cell_type": "code",
   "execution_count": null,
   "metadata": {},
   "outputs": [],
   "source": [
    "error_rate = []\n",
    "\n",
    "for i in range(1,40):\n",
    "    knn = KNeighborsClassifier(n_neighbors=i)\n",
    "    knn.fit(tv_train_features,y_train)\n",
    "    y_pred = knn.predict(tv_test_features)\n",
    "    error_rate.append(np.mean(y_pred != y_test))"
   ]
  },
  {
   "cell_type": "code",
   "execution_count": null,
   "metadata": {},
   "outputs": [],
   "source": [
    "plt.figure(figsize=(10,5))\n",
    "plt.xlabel('K')\n",
    "plt.ylabel('Error Rate')\n",
    "plt.title('Error Rate vs. K')\n",
    "plt.plot(range(1,40),error_rate,color='blue',marker='o',markerfacecolor='pink',markersize=5,ls='--')"
   ]
  },
  {
   "cell_type": "markdown",
   "metadata": {},
   "source": [
    "### TF-IDF"
   ]
  },
  {
   "cell_type": "code",
   "execution_count": 142,
   "metadata": {},
   "outputs": [
    {
     "name": "stdout",
     "output_type": "stream",
     "text": [
      "Model Performance metrics:\n",
      "------------------------------\n",
      "Accuracy: 0.7567\n",
      "Precision: 0.7491\n",
      "Recall: 0.7567\n",
      "F1 Score: 0.7497\n",
      "\n",
      "Model Classification report:\n",
      "------------------------------\n",
      "              precision    recall  f1-score   support\n",
      "\n",
      "           0       0.84      0.94      0.88     19372\n",
      "           1       0.71      0.76      0.74     20469\n",
      "           2       0.70      0.57      0.63     20060\n",
      "           3       0.66      0.57      0.61     16425\n",
      "           4       0.83      0.93      0.88     18348\n",
      "\n",
      "    accuracy                           0.76     94674\n",
      "   macro avg       0.75      0.75      0.75     94674\n",
      "weighted avg       0.75      0.76      0.75     94674\n",
      "\n",
      "\n",
      "Prediction Confusion Matrix:\n",
      "------------------------------\n",
      "          Predicted:                           \n",
      "                   0      1      2     3      4\n",
      "Actual: 0      18191   1134     27     0     20\n",
      "        1       2801  15557   1705   335     71\n",
      "        2        596   4049  11427  3475    513\n",
      "        3        142   1049   3033  9397   2804\n",
      "        4         25     50    148  1060  17065\n"
     ]
    }
   ],
   "source": [
    "knn_tfidf_predictions = train_predict_model(classifier=KNN, train_features=tv_train_features, train_labels=y_train,\n",
    "                                            test_features=tv_test_features, test_labels=y_test)\n",
    "display_model_performance_metrics(true_labels=y_test, predicted_labels=knn_tfidf_predictions,classes=[0,1,2,3,4])"
   ]
  },
  {
   "cell_type": "markdown",
   "metadata": {},
   "source": [
    "## Logistic Regression on Count Vectorizer"
   ]
  },
  {
   "cell_type": "code",
   "execution_count": 120,
   "metadata": {},
   "outputs": [],
   "source": [
    "from sklearn.linear_model import LogisticRegression\n",
    "\n",
    "lr = LogisticRegression(penalty='l2', max_iter=100, C=1)"
   ]
  },
  {
   "cell_type": "code",
   "execution_count": 123,
   "metadata": {},
   "outputs": [
    {
     "name": "stdout",
     "output_type": "stream",
     "text": [
      "Model Performance metrics:\n",
      "------------------------------\n",
      "Accuracy: 0.6472\n",
      "Precision: 0.6418\n",
      "Recall: 0.6472\n",
      "F1 Score: 0.6413\n",
      "\n",
      "Model Classification report:\n",
      "------------------------------\n",
      "              precision    recall  f1-score   support\n",
      "\n",
      "           0       0.75      0.79      0.77     19372\n",
      "           1       0.59      0.52      0.55     20469\n",
      "           2       0.58      0.70      0.64     20060\n",
      "           3       0.54      0.42      0.47     16425\n",
      "           4       0.74      0.79      0.76     18348\n",
      "\n",
      "    accuracy                           0.65     94674\n",
      "   macro avg       0.64      0.64      0.64     94674\n",
      "weighted avg       0.64      0.65      0.64     94674\n",
      "\n",
      "\n",
      "Prediction Confusion Matrix:\n",
      "------------------------------\n",
      "          Predicted:                           \n",
      "                   0      1      2     3      4\n",
      "Actual: 0      15251   3175    562   221    163\n",
      "        1       4050  10640   4373   971    435\n",
      "        2        646   2742  14067  2015    590\n",
      "        3        341   1075   4314  6851   3844\n",
      "        4        114    315    734  2725  14460\n"
     ]
    }
   ],
   "source": [
    "lr_bow_predictions = train_predict_model(classifier=lr, train_features=cv_train_features, train_labels=y_train,\n",
    "                                        test_features=cv_test_features, test_labels=y_test)\n",
    "display_model_performance_metrics(true_labels=y_test, predicted_labels=lr_bow_predictions,classes=[0,1,2,3,4])"
   ]
  },
  {
   "cell_type": "markdown",
   "metadata": {},
   "source": [
    "## Logistic Regression on TF-IDF features"
   ]
  },
  {
   "cell_type": "code",
   "execution_count": 124,
   "metadata": {},
   "outputs": [
    {
     "name": "stdout",
     "output_type": "stream",
     "text": [
      "Model Performance metrics:\n",
      "------------------------------\n",
      "Accuracy: 0.7078\n",
      "Precision: 0.702\n",
      "Recall: 0.7078\n",
      "F1 Score: 0.7023\n",
      "\n",
      "Model Classification report:\n",
      "------------------------------\n",
      "              precision    recall  f1-score   support\n",
      "\n",
      "           0       0.78      0.87      0.82     19372\n",
      "           1       0.67      0.63      0.65     20469\n",
      "           2       0.64      0.67      0.66     20060\n",
      "           3       0.63      0.49      0.55     16425\n",
      "           4       0.78      0.86      0.82     18348\n",
      "\n",
      "    accuracy                           0.71     94674\n",
      "   macro avg       0.70      0.70      0.70     94674\n",
      "weighted avg       0.70      0.71      0.70     94674\n",
      "\n",
      "\n",
      "Prediction Confusion Matrix:\n",
      "------------------------------\n",
      "          Predicted:                           \n",
      "                   0      1      2     3      4\n",
      "Actual: 0      16780   2228    241    29     94\n",
      "        1       3740  12797   3183   539    210\n",
      "        2        682   3154  13482  2143    599\n",
      "        3        186    750   3834  8092   3563\n",
      "        4         43    106    359  1980  15860\n"
     ]
    }
   ],
   "source": [
    "lr_tfidf_predictions = train_predict_model(classifier=lr, train_features=tv_train_features, train_labels=y_train,\n",
    "                                            test_features=tv_test_features, test_labels=y_test)\n",
    "display_model_performance_metrics(true_labels=y_test, predicted_labels=lr_tfidf_predictions,classes=[0,1,2,3,4])"
   ]
  },
  {
   "cell_type": "markdown",
   "metadata": {},
   "source": [
    "#### Here also TF-IDF outperform Count-Vectorize, still accuracy should be increased. Lets try Decision Tree"
   ]
  },
  {
   "cell_type": "markdown",
   "metadata": {},
   "source": [
    "## Decision Tree"
   ]
  },
  {
   "cell_type": "markdown",
   "metadata": {},
   "source": [
    "### Count Vectorizer"
   ]
  },
  {
   "cell_type": "code",
   "execution_count": 72,
   "metadata": {},
   "outputs": [],
   "source": [
    "from sklearn.tree import DecisionTreeClassifier\n",
    "DT=DecisionTreeClassifier()"
   ]
  },
  {
   "cell_type": "code",
   "execution_count": 73,
   "metadata": {},
   "outputs": [
    {
     "name": "stdout",
     "output_type": "stream",
     "text": [
      "Model Performance metrics:\n",
      "------------------------------\n",
      "Accuracy: 0.8019\n",
      "Precision: 0.7964\n",
      "Recall: 0.8019\n",
      "F1 Score: 0.7961\n",
      "\n",
      "Model Classification report:\n",
      "------------------------------\n",
      "              precision    recall  f1-score   support\n",
      "\n",
      "           0       0.85      0.98      0.91     19510\n",
      "           1       0.80      0.79      0.79     20496\n",
      "           2       0.74      0.68      0.71     19801\n",
      "           3       0.75      0.60      0.67     16525\n",
      "           4       0.85      0.95      0.90     18342\n",
      "\n",
      "    accuracy                           0.80     94674\n",
      "   macro avg       0.80      0.80      0.79     94674\n",
      "weighted avg       0.80      0.80      0.80     94674\n",
      "\n",
      "\n",
      "Prediction Confusion Matrix:\n",
      "------------------------------\n",
      "          Predicted:                           \n",
      "                   0      1      2     3      4\n",
      "Actual: 0      19033    358     81    13     25\n",
      "        1       2841  16128   1169   248    110\n",
      "        2        401   3125  13421  2463    391\n",
      "        3         84    552   3345  9929   2615\n",
      "        4         58     22    181   671  17410\n"
     ]
    }
   ],
   "source": [
    "dt_bow_predictions = train_predict_model(classifier=DT, train_features=cv_train_features, train_labels=y_train,\n",
    "                                        test_features=cv_test_features, test_labels=y_test)\n",
    "display_model_performance_metrics(true_labels=y_test, predicted_labels=dt_bow_predictions,classes=[0,1,2,3,4])"
   ]
  },
  {
   "cell_type": "markdown",
   "metadata": {},
   "source": [
    "### TF-IDF"
   ]
  },
  {
   "cell_type": "code",
   "execution_count": 74,
   "metadata": {},
   "outputs": [
    {
     "name": "stdout",
     "output_type": "stream",
     "text": [
      "Model Performance metrics:\n",
      "------------------------------\n",
      "Accuracy: 0.8169\n",
      "Precision: 0.8115\n",
      "Recall: 0.8169\n",
      "F1 Score: 0.811\n",
      "\n",
      "Model Classification report:\n",
      "------------------------------\n",
      "              precision    recall  f1-score   support\n",
      "\n",
      "           0       0.86      0.99      0.92     19510\n",
      "           1       0.81      0.81      0.81     20496\n",
      "           2       0.76      0.67      0.71     19801\n",
      "           3       0.76      0.63      0.69     16525\n",
      "           4       0.86      0.97      0.91     18342\n",
      "\n",
      "    accuracy                           0.82     94674\n",
      "   macro avg       0.81      0.81      0.81     94674\n",
      "weighted avg       0.81      0.82      0.81     94674\n",
      "\n",
      "\n",
      "Prediction Confusion Matrix:\n",
      "------------------------------\n",
      "          Predicted:                            \n",
      "                   0      1      2      3      4\n",
      "Actual: 0      19252    225     21      2     10\n",
      "        1       2649  16661    914    204     68\n",
      "        2        380   3102  13321   2610    388\n",
      "        3         64    475   3179  10351   2456\n",
      "        4         40     17     50    479  17756\n"
     ]
    }
   ],
   "source": [
    "dt_tfidf_predictions = train_predict_model(classifier=DT, train_features=tv_train_features, train_labels=y_train,\n",
    "                                            test_features=tv_test_features, test_labels=y_test)\n",
    "display_model_performance_metrics(true_labels=y_test, predicted_labels=dt_tfidf_predictions,classes=[0,1,2,3,4])"
   ]
  },
  {
   "cell_type": "markdown",
   "metadata": {},
   "source": [
    "#### Here also, TF-IDF outperforms Count-Vectorize which was obvious from the start. Now, onwards we will just try to improve accuracy of TF-IDF assuming that it will be better than Count-Vectorize in all cases. "
   ]
  },
  {
   "cell_type": "markdown",
   "metadata": {},
   "source": [
    "#### Accuracy of Decision Tree is satisfactory, still try RF and KNN"
   ]
  },
  {
   "cell_type": "markdown",
   "metadata": {},
   "source": [
    "## Random Forest"
   ]
  },
  {
   "cell_type": "code",
   "execution_count": 25,
   "metadata": {},
   "outputs": [],
   "source": [
    "from sklearn.ensemble import RandomForestClassifier\n",
    "RF=RandomForestClassifier(n_jobs=-1,max_depth=40)"
   ]
  },
  {
   "cell_type": "markdown",
   "metadata": {},
   "source": [
    "### TF_IDF"
   ]
  },
  {
   "cell_type": "code",
   "execution_count": 26,
   "metadata": {},
   "outputs": [
    {
     "name": "stdout",
     "output_type": "stream",
     "text": [
      "Model Performance metrics:\n",
      "------------------------------\n",
      "Accuracy: 0.5644\n",
      "Precision: 0.67\n",
      "Recall: 0.5644\n",
      "F1 Score: 0.5389\n",
      "\n",
      "Model Classification report:\n",
      "------------------------------\n",
      "              precision    recall  f1-score   support\n",
      "\n",
      "           0       0.85      0.67      0.75     19456\n",
      "           1       0.54      0.50      0.52     20583\n",
      "           2       0.38      0.79      0.52     19755\n",
      "           3       0.90      0.07      0.14     16507\n",
      "           4       0.73      0.73      0.73     18373\n",
      "\n",
      "    accuracy                           0.56     94674\n",
      "   macro avg       0.68      0.55      0.53     94674\n",
      "weighted avg       0.67      0.56      0.54     94674\n",
      "\n",
      "\n",
      "Prediction Confusion Matrix:\n",
      "------------------------------\n",
      "          Predicted:                           \n",
      "                   0      1      2     3      4\n",
      "Actual: 0      13014   2754   3536     0    152\n",
      "        1       1788  10203   8193    11    388\n",
      "        2        329   2973  15651   123    679\n",
      "        3        172   2074   9282  1216   3763\n",
      "        4         66    829   4127     2  13349\n"
     ]
    }
   ],
   "source": [
    "rf_tfidf_predictions = train_predict_model(classifier=RF, train_features=tv_train_features, train_labels=y_train,\n",
    "                                            test_features=tv_test_features, test_labels=y_test)\n",
    "display_model_performance_metrics(true_labels=y_test, predicted_labels=rf_tfidf_predictions,classes=[0,1,2,3,4])"
   ]
  },
  {
   "cell_type": "code",
   "execution_count": 29,
   "metadata": {},
   "outputs": [],
   "source": [
    "RF2=RandomForestClassifier(n_jobs=-1,max_depth=25)"
   ]
  },
  {
   "cell_type": "code",
   "execution_count": 30,
   "metadata": {},
   "outputs": [
    {
     "name": "stdout",
     "output_type": "stream",
     "text": [
      "Model Performance metrics:\n",
      "------------------------------\n",
      "Accuracy: 0.5115\n",
      "Precision: 0.6371\n",
      "Recall: 0.5115\n",
      "F1 Score: 0.48\n",
      "\n",
      "Model Classification report:\n",
      "------------------------------\n",
      "              precision    recall  f1-score   support\n",
      "\n",
      "           0       0.81      0.58      0.68     19456\n",
      "           1       0.42      0.50      0.46     20583\n",
      "           2       0.37      0.75      0.50     19755\n",
      "           3       0.91      0.02      0.03     16507\n",
      "           4       0.73      0.64      0.68     18373\n",
      "\n",
      "    accuracy                           0.51     94674\n",
      "   macro avg       0.65      0.50      0.47     94674\n",
      "weighted avg       0.64      0.51      0.48     94674\n",
      "\n",
      "\n",
      "Prediction Confusion Matrix:\n",
      "------------------------------\n",
      "          Predicted:                          \n",
      "                   0      1      2    3      4\n",
      "Actual: 0      11259   4501   3445    0    251\n",
      "        1       1826  10221   8167    3    366\n",
      "        2        361   3963  14909   23    499\n",
      "        3        264   3591   9196  264   3192\n",
      "        4        110   2003   4485    0  11775\n"
     ]
    }
   ],
   "source": [
    "rf2_tfidf_predictions = train_predict_model(classifier=RF2, train_features=tv_train_features, train_labels=y_train,\n",
    "                                            test_features=tv_test_features, test_labels=y_test)\n",
    "display_model_performance_metrics(true_labels=y_test, predicted_labels=rf2_tfidf_predictions,classes=[0,1,2,3,4])"
   ]
  },
  {
   "cell_type": "markdown",
   "metadata": {},
   "source": [
    "### Decision tree performs best"
   ]
  }
 ],
 "metadata": {
  "kernelspec": {
   "display_name": "Python 3",
   "language": "python",
   "name": "python3"
  },
  "language_info": {
   "codemirror_mode": {
    "name": "ipython",
    "version": 3
   },
   "file_extension": ".py",
   "mimetype": "text/x-python",
   "name": "python",
   "nbconvert_exporter": "python",
   "pygments_lexer": "ipython3",
   "version": "3.6.4"
  }
 },
 "nbformat": 4,
 "nbformat_minor": 2
}
